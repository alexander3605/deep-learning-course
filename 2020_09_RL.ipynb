{
 "cells": [
  {
   "cell_type": "markdown",
   "metadata": {
    "colab_type": "text",
    "id": "view-in-github"
   },
   "source": [
    "<a href=\"https://colab.research.google.com/github/MatchLab-Imperial/deep-learning-course/blob/master/2020_09_RL.ipynb\" target=\"_parent\"><img src=\"https://colab.research.google.com/assets/colab-badge.svg\" alt=\"Open In Colab\"/></a>"
   ]
  },
  {
   "cell_type": "markdown",
   "metadata": {
    "colab_type": "text",
    "id": "2gPhGQSZ1era"
   },
   "source": [
    "# Deep Reinforcement Learning: An Introduction\n",
    "\n",
    "In this tutorial, we will enter the world of Deep Reinforcement Learning (DRL). In particular, we will first familiarize ourselves with some basic concepts of Reinforcement Learning (RL), then we will implement a classical tabular Q-learning method for the classic [Frozen Lake](https://gym.openai.com/envs/FrozenLake-v0/) puzzle and finally, implement a Deep Q-learning approach for the [CartPole](https://gym.openai.com/envs/CartPole-v1/) problem.\n",
    "\n",
    "\n",
    "> \n",
    "\n",
    "\n",
    "\n",
    "![alt text](https://media2.giphy.com/media/46ib09ZL1SdWuREnj3/giphy.gif?cid=3640f6095c6e92762f3446634d90bc65) ![alt text](https://media0.giphy.com/media/d9QiBcfzg64Io/200w.webp?cid=3640f6095c6e93e92f30655873731752)![alt text](https://i.gifer.com/GpAY.gif)\n",
    "\n",
    "The gifs above, show the results obtained by [deepmind](https://arxiv.org/pdf/1312.5602v1.pdf) in one of their latest papers. They successfully trained an RL agent using deep Q-learning to play classical Atari arcade games. Let's see now how they did it.\n",
    "\n",
    "\n",
    "\n",
    "\n",
    "\n",
    "\n"
   ]
  },
  {
   "cell_type": "markdown",
   "metadata": {
    "colab_type": "text",
    "id": "wmpPzxlbwvxI"
   },
   "source": [
    "# Q-Learning \n",
    "\n",
    "This family of RL methods try to learn an approximator of the action-value functions $Q(s,a)$  based on the [Bellman equation](https://en.wikipedia.org/wiki/Bellman_equation), such that the update using a classical [gradient descent ](https://en.wikipedia.org/wiki/Gradient_descent) formulation is given by:\n",
    "$$Q\\left(s,a\\right)=Q\\left(s,a\\right)+ \\alpha \\left(r+\\gamma \\max _{a} Q\\left(s_{t+1},a\\right)-Q\\left(s,a\\right)\\right).$$\n",
    "Where $\\alpha$ is the step size. \n",
    " Q-Learning updates the estimated reward at each time step and  uses the old estimate $ \\max _{a}Q\\left(s_{t+1},a\\right)$ to update the new ones. In a more algorithmic way, the Q-Learning process is the following:\n",
    "\n",
    "\n",
    "1.   Initialize Q-values at random $Q\\left(s,a\\right)$.\n",
    "2. Forever or until learning is stopped do:\n",
    "> 1.  Observe state $s$.\n",
    "> 2.   Take action $a$ according to your policy, e.g., $\\epsilon-greedy$.\n",
    "> 3.   Observe reward $r$ and new state $s_{t+1}$.\n",
    "> 4. Based on your actual estimates, compute $\\max _{a}Q\\left(s_{t+1},a\\right)$.\n",
    "> 5. Update your current estimate for  $Q\\left(s,a\\right)$:\n",
    "$$Q\\left(s,a\\right)=Q\\left(s,a\\right)+ \\alpha \\left(r+\\gamma \\max _{a} Q\\left(s_{t+1},a\\right)-Q\\left(s,a\\right)\\right).$$\n",
    "\n",
    "Okay, now that we are familiar with Q-Learning lets jump to a real implementation of it.\n",
    "\n",
    "\n",
    "\n",
    "\n"
   ]
  },
  {
   "cell_type": "markdown",
   "metadata": {
    "colab_type": "text",
    "id": "p_9McSwZh5sT"
   },
   "source": [
    "\n",
    "## Tabular Q-Learning with Frozen Lake\n",
    "In this section we will teach an agent how to play  the [Frozen lake](https://gym.openai.com/envs/FrozenLake-v0/) game using a classical tabular Q-learning. Brace yourselves, winter is coming! \n",
    "\n",
    "![alt text](https://raw.githubusercontent.com/simoninithomas/Deep_reinforcement_learning_Course/1ee37cfc3130057f828f19b3cee6066d41c1eeb4/Q%20learning/FrozenLake/frozenlake.png)\n",
    "\n",
    "Winter has arrived and you and your friends were tossing around a frisbee at the park when you made a wild throw that left the frisbee out in the middle of the lake. The water is mostly frozen, but there are a few holes where the ice has melted. If you step into one of those holes, you'll fall into the freezing water. At this time, there's an international frisbee shortage, so you must navigate across the lake and retrieve the disc. However, the ice is slippery, so you won't always move in the direction you intend.\n",
    "The goal of this game is to go from the starting state (S) to the goal state (G) by walking only on frozen tiles (F) and avoid holes (H). However, the ice is slippery (!!), so you won't always move in the direction you intend (stochastic environment), i.e., there is a probability $p$ that you move in the direcction selected and a probability $(1-p)$ that given the slippery ice, you move to a random position near positon. \n",
    "\n",
    "The lake is represented by a 4x4 grid and the location where the frisbee has landed (G) as well as the holes (H) is always the same for every new game. The game is restarted every time you have successfully recovered the frisbee or you have fallen into the cold waters. A reward of +1 is given every time you recover the frisbee and 0 other way.\n"
   ]
  },
  {
   "cell_type": "markdown",
   "metadata": {
    "colab_type": "text",
    "id": "nNrutC72jZRZ"
   },
   "source": [
    "**Step 0: Import the needed libraries:**\n",
    "\n",
    "We will be using 3 libraries:\n",
    "\n",
    "* Numpy for our Qtable.\n",
    "* OpenAI Gym for our FrozenLake Environment\n",
    "* Random to generate random numbers\n",
    "\n"
   ]
  },
  {
   "cell_type": "code",
   "execution_count": null,
   "metadata": {
    "colab": {},
    "colab_type": "code",
    "id": "Q0OxrnpgjyFh"
   },
   "outputs": [],
   "source": [
    "\n",
    "from IPython.display import HTML\n",
    "import numpy as np\n",
    "import gym\n",
    "import random"
   ]
  },
  {
   "cell_type": "markdown",
   "metadata": {
    "colab_type": "text",
    "id": "p-Nx8PYnj4I5"
   },
   "source": [
    "**Environment creation:**\n",
    "\n",
    "OpenAi is  a library composed of many environments that we can use to train our agents, in our case we choose to use the Frozen Lake."
   ]
  },
  {
   "cell_type": "code",
   "execution_count": null,
   "metadata": {
    "colab": {},
    "colab_type": "code",
    "id": "DWgurerLkNLe"
   },
   "outputs": [],
   "source": [
    "env = gym.make(\"FrozenLake-v0\")"
   ]
  },
  {
   "cell_type": "markdown",
   "metadata": {
    "colab_type": "text",
    "id": "BeaPjILgkS7Z"
   },
   "source": [
    "**Q-table**\n",
    "\n",
    " Now, we'll create our Q-table. The goal of the Q-table is to store the estimates $Q\\left(s,a\\right)$ and retrieve them when necessary. In this game the states are represented by each of the 16 grid positions being 0 the starting position and 16 the goal position and the actions are 4: left, right, up and down. Our Q-table will have then $16 \\times 4$ positions, where the value of the first column of the first row represents the expected return of being in position 0 and taking left.\n",
    " \n",
    "The number of rows (states) and columns (actions) the table will have can also be obtained using the values action_size and the state_size from the OpenAI Gym library: *env.action_space.n* and* env.observation_space.n*.\n",
    " \n",
    "We initialize the table to 0."
   ]
  },
  {
   "cell_type": "code",
   "execution_count": 29,
   "metadata": {
    "colab": {
     "base_uri": "https://localhost:8080/",
     "height": 305
    },
    "colab_type": "code",
    "id": "eintO6cYk5qN",
    "outputId": "f2cc3a0d-f982-470a-aa0f-068a19444575"
   },
   "outputs": [
    {
     "name": "stdout",
     "output_type": "stream",
     "text": [
      "[[0. 0. 0. 0.]\n",
      " [0. 0. 0. 0.]\n",
      " [0. 0. 0. 0.]\n",
      " [0. 0. 0. 0.]\n",
      " [0. 0. 0. 0.]\n",
      " [0. 0. 0. 0.]\n",
      " [0. 0. 0. 0.]\n",
      " [0. 0. 0. 0.]\n",
      " [0. 0. 0. 0.]\n",
      " [0. 0. 0. 0.]\n",
      " [0. 0. 0. 0.]\n",
      " [0. 0. 0. 0.]\n",
      " [0. 0. 0. 0.]\n",
      " [0. 0. 0. 0.]\n",
      " [0. 0. 0. 0.]\n",
      " [0. 0. 0. 0.]]\n"
     ]
    }
   ],
   "source": [
    "action_size = env.action_space.n\n",
    "state_size = env.observation_space.n\n",
    "qtable = np.zeros((state_size, action_size))\n",
    "print(qtable)"
   ]
  },
  {
   "cell_type": "markdown",
   "metadata": {
    "colab_type": "text",
    "id": "G06GlU14k_JG"
   },
   "source": [
    "**Hyperparameters**\n",
    "\n",
    "Following, we specify the hyperparameters:\n"
   ]
  },
  {
   "cell_type": "code",
   "execution_count": null,
   "metadata": {
    "colab": {},
    "colab_type": "code",
    "id": "SYWdb_rHlFzq"
   },
   "outputs": [],
   "source": [
    "total_episodes = 25000        # Total episodes\n",
    "learning_rate = 0.8           # Learning rate (alpha in the previous formulation)\n",
    "max_steps = 99                # Max steps per episode\n",
    "gamma = 0.95                  # Discounting rate"
   ]
  },
  {
   "cell_type": "markdown",
   "metadata": {
    "colab_type": "text",
    "id": "NVb-8n8Jlkhs"
   },
   "source": [
    "At first, we don't know how to interact with the environment (Q-table values set to 0), so we start exploring it by taking a random action with probability $\\epsilon=1$, capturing the rewards obtained and updating the Q-values of the table accordingly. As time passes by, we start knowing more and more the environment, so we reduce (decay_rate) the probability of taking a random action and we start exploiting our knowledge, we choose the action that leads us to the highest reward, i.e., the one with the highest Q-value."
   ]
  },
  {
   "cell_type": "code",
   "execution_count": null,
   "metadata": {
    "colab": {},
    "colab_type": "code",
    "id": "rXq90uCMllKE"
   },
   "outputs": [],
   "source": [
    "# Exploration parameters\n",
    "epsilon = 1.0                 # Exploration rate\n",
    "max_epsilon = 1.0             # Exploration probability at start\n",
    "min_epsilon = 0.01            # Minimum exploration probability \n",
    "decay_rate = 0.005             # Exponential decay rate for exploration prob"
   ]
  },
  {
   "cell_type": "code",
   "execution_count": null,
   "metadata": {
    "colab": {},
    "colab_type": "code",
    "id": "6TQ332dJyBNl"
   },
   "outputs": [],
   "source": []
  },
  {
   "cell_type": "markdown",
   "metadata": {
    "colab_type": "text",
    "id": "mVu4B3F2lLl8"
   },
   "source": [
    "**Q-Learning**\n",
    "\n",
    "Now we implement the Q-Learning algorithm: \n",
    "> 1.  Observe state $s$.\n",
    "> 2.   Choose a random value $v$ between 0 and 1.\n",
    "> 3. If $v<\\epsilon$, we choose a random action, otherwise we select the action with maximum $Q(s,a)$.\n",
    "> 3.   Observe reward $r$ and new state $s_{t+1}$.\n",
    "> 4. Based on your previous estimates, compute $\\max _{a}Q\\left(s_{t+1},a\\right)$.\n",
    "> 5. Update your current estimates for  $Q\\left(s,a\\right)$:\n",
    "$$Q\\left(s,a\\right)=Q\\left(s,a\\right)+ \\alpha \\left(r+\\gamma \\max _{a} Q\\left(s_{t+1},a\\right)-Q\\left(s,a\\right)\\right).$$\n"
   ]
  },
  {
   "cell_type": "code",
   "execution_count": 32,
   "metadata": {
    "colab": {
     "base_uri": "https://localhost:8080/",
     "height": 323
    },
    "colab_type": "code",
    "id": "eYbqMpg-liRd",
    "outputId": "7aa9a41d-a16e-47f7-94f6-860e4a27cd71"
   },
   "outputs": [
    {
     "name": "stdout",
     "output_type": "stream",
     "text": [
      "Score over time: 0.48228\n",
      "[[8.95202924e-02 4.65700361e-02 3.11526745e-02 2.31793510e-02]\n",
      " [1.79576545e-03 8.52235298e-03 3.11178843e-03 4.70788205e-02]\n",
      " [7.52145430e-03 3.77888986e-03 5.08789075e-03 1.27684143e-02]\n",
      " [5.54158586e-03 3.47388644e-03 5.83752772e-04 9.41714105e-03]\n",
      " [2.64890655e-01 3.51583419e-03 2.67191272e-03 2.64145741e-03]\n",
      " [0.00000000e+00 0.00000000e+00 0.00000000e+00 0.00000000e+00]\n",
      " [7.81363021e-07 9.36653948e-08 5.78388741e-01 5.57842311e-13]\n",
      " [0.00000000e+00 0.00000000e+00 0.00000000e+00 0.00000000e+00]\n",
      " [2.75962476e-02 7.31171180e-02 1.38677588e-02 5.58551665e-01]\n",
      " [3.00688287e-03 5.05330804e-01 2.38334528e-02 5.25582338e-02]\n",
      " [6.58223827e-03 9.05621775e-02 1.45846037e-03 5.86858537e-03]\n",
      " [0.00000000e+00 0.00000000e+00 0.00000000e+00 0.00000000e+00]\n",
      " [0.00000000e+00 0.00000000e+00 0.00000000e+00 0.00000000e+00]\n",
      " [1.45135112e-02 7.10784869e-03 8.40126934e-01 1.50147889e-01]\n",
      " [1.76449637e-01 9.96131251e-01 2.23383343e-01 1.97243696e-01]\n",
      " [0.00000000e+00 0.00000000e+00 0.00000000e+00 0.00000000e+00]]\n"
     ]
    }
   ],
   "source": [
    "# List of rewards\n",
    "rewards = []\n",
    "\n",
    "# 2 For life or until learning is stopped\n",
    "for episode in range(total_episodes):\n",
    "    # Reset the environment\n",
    "    state = env.reset()\n",
    "    step = 0\n",
    "    done = False\n",
    "    total_rewards = 0\n",
    "    \n",
    "    for step in range(max_steps):\n",
    "        # 3. Choose an action a in the current world state (s)\n",
    "        ## First we randomize a number\n",
    "        exp_exp_tradeoff = random.uniform(0, 1)\n",
    "        \n",
    "        ## If this number > greater than epsilon --> exploitation (taking the biggest Q value for this state)\n",
    "        if exp_exp_tradeoff > epsilon:\n",
    "            action = np.argmax(qtable[state,:])\n",
    "\n",
    "        # Else doing a random choice --> exploration\n",
    "        else:\n",
    "            action = env.action_space.sample()\n",
    "\n",
    "        # Take the action (a) and observe the outcome state(s') and reward (r)\n",
    "        new_state, reward, done, info = env.step(action)\n",
    "\n",
    "        # Update Q(s,a):= Q(s,a) + lr [R(s,a) + gamma * max Q(s',a') - Q(s,a)]\n",
    "        # qtable[new_state,:] : all the actions we can take from new state\n",
    "        qtable[state, action] = qtable[state, action] + learning_rate * (reward + gamma * np.max(qtable[new_state, :]) - qtable[state, action])\n",
    "        \n",
    "        total_rewards += reward\n",
    "        \n",
    "        # Our new state is state\n",
    "        state = new_state\n",
    "        \n",
    "        # If done (if we're dead) : finish episode\n",
    "        if done == True: \n",
    "            break\n",
    "        \n",
    "    # Reduce epsilon (because we need less and less exploration)\n",
    "    epsilon = min_epsilon + (max_epsilon - min_epsilon)*np.exp(-decay_rate*episode) \n",
    "    rewards.append(total_rewards)\n",
    "\n",
    "print (\"Score over time: \" +  str(sum(rewards)/total_episodes))\n",
    "print(qtable)"
   ]
  },
  {
   "cell_type": "markdown",
   "metadata": {
    "colab_type": "text",
    "id": "zvcHhVx5lrWZ"
   },
   "source": [
    "**Use our Q-table to play FrozenLake!**\n",
    "\n",
    "After 10 000 episodes, our Q-table can be used as a \"cheatsheet\" to play FrozenLake\"!\n",
    "  \n",
    "By running this cell, you can see our agent playing FrozenLake:"
   ]
  },
  {
   "cell_type": "code",
   "execution_count": null,
   "metadata": {
    "colab": {},
    "colab_type": "code",
    "id": "Hz65tCGSlzSc"
   },
   "outputs": [],
   "source": [
    "env.reset()\n",
    "\n",
    "state = env.reset()\n",
    "step = 0\n",
    "done = False\n",
    "print(\"****************************************************\")\n",
    "env.render()\n",
    "for step in range(max_steps):\n",
    "\n",
    "    # Take the action (index) that have the maximum expected future reward given that state\n",
    "    action = np.argmax(qtable[state,:])\n",
    "\n",
    "    new_state, reward, done, info = env.step(action)\n",
    "\n",
    "    env.render()\n",
    "\n",
    "    # We print the current step.\n",
    "    print(\"Number of steps\", step)\n",
    "    if done:\n",
    "      break\n",
    "    state = new_state\n",
    "env.close()"
   ]
  },
  {
   "cell_type": "markdown",
   "metadata": {
    "colab_type": "text",
    "id": "iSroWmlroYiC"
   },
   "source": [
    "Let’s see how many times our agent finds the frisbee 🎉🎉🎉\n",
    "\n",
    "To this end we will print the last step of the game."
   ]
  },
  {
   "cell_type": "code",
   "execution_count": 33,
   "metadata": {
    "colab": {
     "base_uri": "https://localhost:8080/",
     "height": 467
    },
    "colab_type": "code",
    "id": "W3BUEqOzocSl",
    "outputId": "70f1a676-a5c2-4b5b-e23e-c6f0e90a4455"
   },
   "outputs": [
    {
     "name": "stdout",
     "output_type": "stream",
     "text": [
      "****************************************************\n",
      "  (Down)\n",
      "SFFF\n",
      "FHFH\n",
      "FFF\u001b[41mH\u001b[0m\n",
      "HFFG\n",
      "Number of steps 16\n",
      "  (Down)\n",
      "SFFF\n",
      "FHFH\n",
      "FFFH\n",
      "HFF\u001b[41mG\u001b[0m\n",
      "Number of steps 47\n",
      "  (Down)\n",
      "SFFF\n",
      "FHFH\n",
      "FFFH\n",
      "HFF\u001b[41mG\u001b[0m\n",
      "Number of steps 78\n",
      "  (Down)\n",
      "SFFF\n",
      "FHFH\n",
      "FFFH\n",
      "HFF\u001b[41mG\u001b[0m\n",
      "Number of steps 17\n"
     ]
    }
   ],
   "source": [
    "games=5\n",
    "step = 0\n",
    "done = False\n",
    "print(\"****************************************************\")\n",
    "for game in range(games):\n",
    "  env.reset()\n",
    "  state = env.reset()\n",
    "  for step in range(max_steps):\n",
    "\n",
    "      # Take the action (index) that have the maximum expected future reward given that state\n",
    "      action = np.argmax(qtable[state,:])\n",
    "\n",
    "      new_state, reward, done, info = env.step(action)\n",
    "\n",
    "      if done:\n",
    "        # Here, we decide to only print the last state (to see if our agent is on the goal or fall into an hole)\n",
    "        env.render()\n",
    "\n",
    "        # We print the number of step it took.\n",
    "        print(\"Number of steps\", step)\n",
    "        done= False\n",
    "        break\n",
    "      state = new_state\n",
    "  env.close()"
   ]
  },
  {
   "cell_type": "markdown",
   "metadata": {
    "colab_type": "text",
    "id": "_d3L77JNpUvy"
   },
   "source": [
    "## CartPole\n",
    "\n",
    "That wasn't so hard! How about trying to balance a pole so it does not fall? In this section we will address the [CartPole](https://gym.openai.com/envs/CartPole-v1/) problem, let's get to it!\n",
    "\n",
    "![texto alternativo](https://keon.github.io/images/deep-q-learning/animation.gif)\n",
    "\n",
    "As before we will use Q-learning to train our agent, so let's start by constructing our Q-table. We first need to find out the number of columns and rows of it. By checking the environment specifications of [OpenAi](https://github.com/openai/gym/blob/master/gym/envs/classic_control/cartpole.py), we see that the actions are left and right, so we need two columns for the actions. On the other hand, the state information is given by:\n",
    "\n",
    "        Num\tObservation                 Min         Max\n",
    "        0\tCart Position             -4.8            4.8\n",
    "        1\tCart Velocity             -Inf            Inf\n",
    "        2\tPole Angle                 -24 deg        24 deg\n",
    "        3\tPole Velocity At Tip      -Inf            Inf\n",
    "      \n",
    "The cart position goes from -4.8 to 4.8 with a resolution of 0.01, that means $\\frac{4.8 \\times 2}{0.01}=960$ possible carts positions, while the cart velocity goes from $-\\infty$ to $\\infty$!!. How we are going to construct a table with $\\infty$ rows?!?!\n",
    " \n",
    "Do not panic! That is when deep learning steps up and takes over the stage. As you have already seen the use of deep Neural Networks as general function approximators have been proven to work very well in wide range of areas, reinforcement learning is not an exception. In this case we will use the NNs as function approximation between the mapping of states to actions, so for every input state, we want the NNs to output an approximation of the $Q\\left(s,a\\right)$.\n",
    "\n",
    "![alt text](https://proxy.duckduckgo.com/iu/?u=https%3A%2F%2Fcdn-images-1.medium.com%2Fmax%2F1318%2F1*Gh5PS4R_A5drl5ebd_gNrg%402x.png&f=1)\n",
    "\n",
    "In this particular scenario, the input layer will have the same number of inputs as environment parameters, 4, and the output layer will have the same number of outputs as actions, in this case 2. \n",
    "\n",
    "**Reward:** A reward of +1 is provided for every timestep that the pole remains upright. The episode ends when the pole is more than 15 degrees from vertical.\n"
   ]
  },
  {
   "cell_type": "markdown",
   "metadata": {
    "colab_type": "text",
    "id": "wHi3LRul2b6h"
   },
   "source": [
    "\n",
    "**Step 0: Import the needed libraries**\n",
    "\n",
    "We start by importing the needed libraries:\n",
    "We will be using 3 libraries:\n",
    "* Keras: for our DNNs.\n",
    "* OpenAI Gym: for our CartPole Environment\n",
    "* Random: to generate random numbers.\n",
    "* Collections: Collection will be use to create a memory buffer to store the tuples $\\left(S_t, A_t, R_t,S_{t+1}\\right)$ of transactions. \n",
    "\n",
    "The idea behind the use of a memory buffer is that most optimization algorithms, including gradient descent, assume that the samples which the gradient is obtained are independent and identically distributed. Clearly in the defined environment is not the case, however, by sampling uniformly the memory buffer with a high number of samples the correlation between contiguous samples is broken and less likely to be correlated samples are used to update the networks weights, leading to a stable optimization of the action-parameter selection.\n"
   ]
  },
  {
   "cell_type": "code",
   "execution_count": null,
   "metadata": {
    "colab": {},
    "colab_type": "code",
    "id": "yO4Qbc942zPJ"
   },
   "outputs": [],
   "source": [
    "import random\n",
    "import gym\n",
    "import numpy as np\n",
    "from collections import deque\n",
    "from keras.models import Sequential\n",
    "from keras.layers import Dense\n",
    "from keras.optimizers import Adam\n",
    "import os"
   ]
  },
  {
   "cell_type": "markdown",
   "metadata": {
    "colab_type": "text",
    "id": "7KDyanK23SQH"
   },
   "source": [
    "**The Agent**\n",
    "\n",
    "Let's start by coding a general DQ-Learning agent. The state and action size are passed as parameters and we configure a replay buffer to have capacity to store 2000 experienced transitions."
   ]
  },
  {
   "cell_type": "code",
   "execution_count": null,
   "metadata": {
    "colab": {},
    "colab_type": "code",
    "id": "18b_7T9K-V_a"
   },
   "outputs": [],
   "source": [
    " class DQNAgent:\n",
    "    def __init__(self, state_size, action_size):\n",
    "        self.state_size = state_size\n",
    "        self.action_size = action_size\n",
    "        self.memory = deque(maxlen=2000)\n",
    "        self.gamma = 0.95    # discount rate\n",
    "        self.epsilon = 1.0  # exploration rate\n",
    "        self.epsilon_min = 0.01\n",
    "        self.epsilon_decay = 0.995\n",
    "        self.learning_rate = 0.001\n",
    "        self.model = self._build_model()"
   ]
  },
  {
   "cell_type": "markdown",
   "metadata": {
    "colab_type": "text",
    "id": "Xws00CC6Ae7K"
   },
   "source": [
    "Now we address the DDNs; we are going to use two fully connected layers of 24 neurons each and as an optimizer we select  adam optimizer."
   ]
  },
  {
   "cell_type": "code",
   "execution_count": null,
   "metadata": {
    "colab": {},
    "colab_type": "code",
    "id": "UUxh0JOWAtPT"
   },
   "outputs": [],
   "source": [
    "    def _build_model(self):\n",
    "        # Neural Net for Deep-Q learning Model\n",
    "        model = Sequential()\n",
    "        model.add(Dense(24, input_dim=self.state_size, activation='relu'))\n",
    "        model.add(Dense(24, activation='relu'))\n",
    "        model.add(Dense(self.action_size, activation='linear'))\n",
    "        model.compile(loss='mse',\n",
    "                      optimizer=Adam(lr=self.learning_rate))\n",
    "        return model"
   ]
  },
  {
   "cell_type": "markdown",
   "metadata": {
    "colab_type": "text",
    "id": "yA4DQkqcBQ84"
   },
   "source": [
    "Now define the method to store the transictions into the memory buffer.\n",
    "The parameter done is a boolean returned true when the pole has fallen. "
   ]
  },
  {
   "cell_type": "code",
   "execution_count": null,
   "metadata": {
    "colab": {},
    "colab_type": "code",
    "id": "9qv7a_raBQGr"
   },
   "outputs": [],
   "source": [
    "    def remember(self, state, action, reward, next_state, done):\n",
    "          self.memory.append((state, action, reward, next_state, done))"
   ]
  },
  {
   "cell_type": "markdown",
   "metadata": {
    "colab_type": "text",
    "id": "G9X-HisYBc9m"
   },
   "source": [
    "Again, we implement and $\\epsilon-greedy$ policy."
   ]
  },
  {
   "cell_type": "code",
   "execution_count": null,
   "metadata": {
    "colab": {},
    "colab_type": "code",
    "id": "AXJoxwi2Bmss"
   },
   "outputs": [],
   "source": [
    "     def act(self, state):\n",
    "            if np.random.rand() <= self.epsilon:\n",
    "                return random.randrange(self.action_size)\n",
    "            act_values = self.model.predict(state)\n",
    "            return np.argmax(act_values[0]) # returns action"
   ]
  },
  {
   "cell_type": "markdown",
   "metadata": {
    "colab_type": "text",
    "id": "9bmi6bk5Bv7E"
   },
   "source": [
    "Then comes the implementation of the Q-Learning method:\n",
    "\n",
    "\n",
    "\n",
    "1.   We obtain the samples to train the DNN from the replay buffer.\n",
    "2.  We compute $target=r+\\gamma \\max _{a} Q\\left(s_{t+1},a\\right)$, by doing a forward pass using next_state value.\n",
    "3. We do a forward pass through the network to obtain the $Q\\left(s,a\\right)$ for all the possible actions.\n",
    "4. In order to just update the paramater of the action taken, we copy target to the value of the $Q\\left(s,a\\right)$ of the actual $a$ taken.\n",
    "5. We update the parameters of the network using MSE as loss function.\n",
    "\n",
    "\n"
   ]
  },
  {
   "cell_type": "code",
   "execution_count": null,
   "metadata": {
    "colab": {},
    "colab_type": "code",
    "id": "nYgDWxUmBu8n"
   },
   "outputs": [],
   "source": [
    "def replay(self, batch_size):\n",
    "    minibatch = random.sample(self.memory, batch_size)\n",
    "    ### This code below generates batches of states, actions, rewards\n",
    "    ### next states out of the sampled minibatch\n",
    "    state_b = np.squeeze(np.array(list(map(lambda x: x[0], minibatch))))\n",
    "    action_b = np.squeeze(np.array(list(map(lambda x: x[1], minibatch))))\n",
    "    reward_b = np.squeeze(np.array(list(map(lambda x: x[2], minibatch))))\n",
    "    next_state_b = np.squeeze(np.array(list(map(lambda x: x[3], minibatch))))\n",
    "    done_b = np.squeeze(np.array(list(map(lambda x: x[4], minibatch))))\n",
    "  \n",
    "    target = (reward_b + self.gamma *\n",
    "                      np.amax(self.model.predict(next_state_b), 1))\n",
    "    target[done_b==1] = reward_b[done_b==1]\n",
    "    target_f = self.model.predict(state_b)\n",
    "    for k in range(target_f.shape[0]):\n",
    "      target_f[k][action_b[k]] = target[k]\n",
    "    self.model.train_on_batch(state_b, target_f)\n",
    "    if self.epsilon > self.epsilon_min:\n",
    "        self.epsilon *= self.epsilon_decay\n"
   ]
  },
  {
   "cell_type": "markdown",
   "metadata": {
    "colab_type": "text",
    "id": "t2E-OJlAFraT"
   },
   "source": [
    "Now we define the operations to load and save the models."
   ]
  },
  {
   "cell_type": "code",
   "execution_count": null,
   "metadata": {
    "colab": {},
    "colab_type": "code",
    "id": "BeE1SshPFqrn"
   },
   "outputs": [],
   "source": [
    "def load(self, name):\n",
    "  self.model.load_weights(name)\n",
    "def save(self, name):\n",
    "  self.model.save_weights(name)"
   ]
  },
  {
   "cell_type": "markdown",
   "metadata": {
    "colab_type": "text",
    "id": "M4J6L3xbF10Y"
   },
   "source": [
    "Colab does not recognize all the previous code parts defined under the same class, to this end we run everything this time altogether. "
   ]
  },
  {
   "cell_type": "code",
   "execution_count": null,
   "metadata": {
    "colab": {},
    "colab_type": "code",
    "id": "CFSDV2qAFYRk"
   },
   "outputs": [],
   "source": [
    "class DQNAgent:\n",
    "  def __init__(self, state_size, action_size):\n",
    "    self.state_size = state_size\n",
    "    self.action_size = action_size\n",
    "    self.memory = deque(maxlen=20000)\n",
    "    self.gamma = 0.95    # discount rate\n",
    "    self.epsilon = 1.0  # exploration rate\n",
    "    self.epsilon_min = 0.01\n",
    "    self.epsilon_decay = 0.995\n",
    "    self.learning_rate = 0.001\n",
    "    self.model = self._build_model()\n",
    "\n",
    "  def _build_model(self):\n",
    "    # Neural Net for Deep-Q learning Model\n",
    "    model = Sequential()\n",
    "    model.add(Dense(24, input_dim=self.state_size, activation='relu'))\n",
    "    model.add(Dense(48, activation='relu'))\n",
    "    model.add(Dense(self.action_size, activation='linear'))\n",
    "    model.compile(loss='mse',\n",
    "                  optimizer=Adam(lr=self.learning_rate))\n",
    "    return model\n",
    "\n",
    "  def remember(self, state, action, reward, next_state, done):\n",
    "    self.memory.append((state, action, reward, next_state, done))\n",
    "\n",
    "  def act(self, state):# We implement the epsilon-greedy policy\n",
    "    if np.random.rand() <= self.epsilon:\n",
    "        return random.randrange(self.action_size)\n",
    "    act_values = self.model.predict(state)\n",
    "    return np.argmax(act_values[0]) # returns action\n",
    "  \n",
    "  def exploit(self, state): # When we test the agent we dont want it to explore anymore, but to exploit what it has learnt\n",
    "    act_values = self.model.predict(state)\n",
    "    return np.argmax(act_values[0]) \n",
    "\n",
    "  def replay(self, batch_size):\n",
    "    minibatch = random.sample(self.memory, batch_size)\n",
    "    \n",
    "    state_b = np.squeeze(np.array(list(map(lambda x: x[0], minibatch))))\n",
    "    action_b = np.squeeze(np.array(list(map(lambda x: x[1], minibatch))))\n",
    "    reward_b = np.squeeze(np.array(list(map(lambda x: x[2], minibatch))))\n",
    "    next_state_b = np.squeeze(np.array(list(map(lambda x: x[3], minibatch))))\n",
    "    done_b = np.squeeze(np.array(list(map(lambda x: x[4], minibatch))))\n",
    "    target = (reward_b + self.gamma *\n",
    "                      np.amax(self.model.predict(next_state_b), 1))\n",
    "    target[done_b==1] = reward_b[done_b==1]\n",
    "    target_f = self.model.predict(state_b)\n",
    "    for k in range(target_f.shape[0]):\n",
    "      target_f[k][action_b[k]] = target[k]\n",
    "    self.model.train_on_batch(state_b, target_f)\n",
    "    if self.epsilon > self.epsilon_min:\n",
    "        self.epsilon *= self.epsilon_decay\n",
    "  def load(self, name):\n",
    "    self.model.load_weights(name)\n",
    "  def save(self, name):\n",
    "    self.model.save_weights(name)"
   ]
  },
  {
   "cell_type": "markdown",
   "metadata": {
    "colab_type": "text",
    "id": "t6YDZhTIDjiC"
   },
   "source": [
    "**Main**\n",
    "\n",
    "Following we implement the training of the agent. (Warning: it might take a while)"
   ]
  },
  {
   "cell_type": "code",
   "execution_count": null,
   "metadata": {
    "colab": {},
    "colab_type": "code",
    "id": "MwA2WXrnDpzV"
   },
   "outputs": [],
   "source": [
    "EPISODES = 500\n",
    "env = gym.make ('CartPole-v1')\n",
    "state_size = env.observation_space.shape[0]\n",
    "action_size = env.action_space.n\n",
    "agent = DQNAgent(state_size, action_size)\n",
    "done = False\n",
    "batch_size = 32\n",
    "\n",
    "for e in range(EPISODES):\n",
    "    state = env.reset()\n",
    "    state = np.reshape(state, [1, state_size])\n",
    "    for time in range(500):\n",
    "        action = agent.act(state)\n",
    "        next_state, reward, done, _ = env.step(action)\n",
    "        reward = reward if not done else -10\n",
    "        next_state = np.reshape(next_state, [1, state_size])\n",
    "        agent.remember(state, action, reward, next_state, done)\n",
    "        state = next_state\n",
    "        if done:\n",
    "            print(\"episode: {}/{}, score: {}, e: {:.2}\"\n",
    "                  .format(e, EPISODES, time, agent.epsilon))\n",
    "            break\n",
    "        if len(agent.memory) > batch_size:\n",
    "            agent.replay(batch_size)"
   ]
  },
  {
   "cell_type": "markdown",
   "metadata": {
    "colab_type": "text",
    "id": "W2TqM_HhGVM6"
   },
   "source": [
    "Let's now visualize how the agent is performing:"
   ]
  },
  {
   "cell_type": "code",
   "execution_count": null,
   "metadata": {
    "colab": {},
    "colab_type": "code",
    "id": "lGglc_BfYam-"
   },
   "outputs": [],
   "source": [
    "!apt-get install -y xvfb python-opengl > /dev/null 2>&1\n",
    "!pip install gym pyvirtualdisplay > /dev/null 2>&1"
   ]
  },
  {
   "cell_type": "code",
   "execution_count": null,
   "metadata": {
    "colab": {
     "base_uri": "https://localhost:8080/",
     "height": 34
    },
    "colab_type": "code",
    "id": "sMUl6WrhYtuj",
    "outputId": "42ddd56c-2a30-4e71-f449-59432f506924"
   },
   "outputs": [
    {
     "name": "stderr",
     "output_type": "stream",
     "text": [
      "xdpyinfo was not found, X start can not be checked! Please install xdpyinfo!\n"
     ]
    }
   ],
   "source": [
    "import gym\n",
    "import numpy as np\n",
    "import matplotlib.pyplot as plt\n",
    "from IPython import display as ipythondisplay\n",
    "from pyvirtualdisplay import Display\n",
    "display = Display(visible=0, size=(400, 300))\n",
    "display.start()\n",
    "from gym.wrappers import Monitor\n",
    "import glob\n",
    "import io\n",
    "import base64"
   ]
  },
  {
   "cell_type": "code",
   "execution_count": null,
   "metadata": {
    "colab": {},
    "colab_type": "code",
    "id": "WO20MXmfNs4E"
   },
   "outputs": [],
   "source": [
    "\"\"\"\n",
    "Utility functions to enable video recording of gym environment and displaying it\n",
    "To enable video, just do \"env = wrap_env(env)\"\"\n",
    "\"\"\"\n",
    "\n",
    "def show_video():\n",
    "  mp4list = glob.glob('video/*.mp4')\n",
    "  if len(mp4list) > 0:\n",
    "    mp4 = mp4list[0]\n",
    "    video = io.open(mp4, 'r+b').read()\n",
    "    encoded = base64.b64encode(video)\n",
    "    ipythondisplay.display(HTML(data='''<video alt=\"test\" autoplay \n",
    "                loop controls style=\"height: 400px;\">\n",
    "                <source src=\"data:video/mp4;base64,{0}\" type=\"video/mp4\" />\n",
    "             </video>'''.format(encoded.decode('ascii'))))\n",
    "  else: \n",
    "    print(\"Could not find video\")\n",
    "    \n",
    "\n",
    "def wrap_env(env):\n",
    "  env = Monitor(env, './video', force=True)\n",
    "  return env"
   ]
  },
  {
   "cell_type": "code",
   "execution_count": null,
   "metadata": {
    "colab": {
     "base_uri": "https://localhost:8080/",
     "height": 489
    },
    "colab_type": "code",
    "id": "tKv6DNBDGY0N",
    "outputId": "90d41891-dcd9-4a4d-edbc-768de61de376"
   },
   "outputs": [
    {
     "name": "stderr",
     "output_type": "stream",
     "text": [
      "/usr/local/lib/python3.6/dist-packages/gym/logger.py:30: UserWarning: \u001b[33mWARN: Box bound precision lowered by casting to float32\u001b[0m\n",
      "  warnings.warn(colorize('%s: %s'%('WARN', msg % args), 'yellow'))\n"
     ]
    },
    {
     "name": "stdout",
     "output_type": "stream",
     "text": [
      "episode: 499/500, score: 157, e: 0.01\n"
     ]
    },
    {
     "data": {
      "text/html": [
       "<video alt=\"test\" autoplay \n",
       "                loop controls style=\"height: 400px;\">\n",
       "                <source src=\"data:video/mp4;base64,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\" type=\"video/mp4\" />\n",
       "             </video>"
      ],
      "text/plain": [
       "<IPython.core.display.HTML object>"
      ]
     },
     "metadata": {
      "tags": []
     },
     "output_type": "display_data"
    },
    {
     "data": {
      "text/plain": [
       "array([-0.00747298,  0.02776177,  0.02039639, -0.00138892])"
      ]
     },
     "execution_count": 67,
     "metadata": {
      "tags": []
     },
     "output_type": "execute_result"
    }
   ],
   "source": [
    "env = wrap_env(gym.make('CartPole-v1'))\n",
    "state_size = env.observation_space.shape[0]\n",
    "action_size = env.action_space.n\n",
    "done = False\n",
    "state = env.reset()\n",
    "state = np.reshape(state, [1, state_size])\n",
    "for time in range(500):\n",
    "    screen = env.render()\n",
    "    action = agent.exploit(state)\n",
    "    state, reward, done, _ = env.step(action)\n",
    "    state = np.reshape(state, [1, state_size])\n",
    "\n",
    "    if done:\n",
    "        print(\"episode: {}/{}, score: {}, e: {:.2}\"\n",
    "              .format(e, EPISODES, time, agent.epsilon))\n",
    "        break\n",
    "env.close()\n",
    "show_video()\n",
    "env.reset()"
   ]
  },
  {
   "cell_type": "markdown",
   "metadata": {
    "colab_type": "text",
    "id": "wg2wp6Duu7Ok"
   },
   "source": [
    "You can have a look of the tutorials and code prepared by [OpenAI](https://spinningup.openai.com/en/latest/user/introduction.html) for further details on RL."
   ]
  },
  {
   "cell_type": "markdown",
   "metadata": {
    "colab_type": "text",
    "id": "OWgV2gkTfpCc"
   },
   "source": [
    "# Coursework\n",
    "\n",
    "## Task 1: On-policy vs. Off-policy\n",
    "Use the code given below to run the training loop, where the agent is trained for 500 episodes. The agent we give follows the Q-learning approach, which is an off-policy approach. You will now change the approach to SARSA, which is an on-policy approach. Also, for both Q-learning and SARSA test two different policies: $\\epsilon$-greedy and Softmax. $\\epsilon$-greedy is already defined in the tutorial and implemented in the agent. Softmax policy refers to sampling the next action following the probability distribution given by $Softmax(Q(s, a))$. We provide you the NumPy softmax function to normalize the Q-Values into a probability function to use before sampling. Similarly to RNN, in the softmax function, there is a temperature value involve, we set a value that works, but you can change it if it does improve for you. Report the new value if you decide to do so.\n",
    "\n",
    "You will need to modify `act` and `replay` from the `DQNAgent` to implement the different approaches we ask for. Results may differ from run to run due to different initialization states. \n",
    "\n",
    "**Report**\n",
    "* Plot the average reward for the last 100 episodes vs. number of training episodes for the four agents trained: Q-learning and SARSA with both $\\epsilon$-greedy policy and Softmax policy."
   ]
  },
  {
   "cell_type": "code",
   "execution_count": 1,
   "metadata": {
    "colab": {},
    "colab_type": "code",
    "id": "A47sXwdmhlrU"
   },
   "outputs": [
    {
     "name": "stderr",
     "output_type": "stream",
     "text": [
      "Using TensorFlow backend.\n"
     ]
    }
   ],
   "source": [
    "import warnings\n",
    "warnings.filterwarnings('ignore')\n",
    "import random\n",
    "import gym\n",
    "import numpy as np\n",
    "from collections import deque\n",
    "from keras.models import Sequential\n",
    "from keras.layers import Dense\n",
    "from keras.activations import softmax\n",
    "from keras.optimizers import Adam\n",
    "import os\n",
    "import time\n",
    "from tqdm import tqdm\n",
    "import matplotlib.pyplot as plt\n",
    "\n",
    "def softmax(x, temperature=0.025): \n",
    "    \"\"\"Compute softmax values for each sets of scores in x.\"\"\"\n",
    "    x = (x - np.expand_dims(np.max(x, 1), 1))\n",
    "    x = x/temperature    \n",
    "    e_x = np.exp(x)\n",
    "    return e_x / (np.expand_dims(e_x.sum(1), -1) + 1e-5)\n",
    "\n",
    "class DQNAgent:\n",
    "  def __init__(self, state_size, action_size, policy):\n",
    "    self.state_size = state_size\n",
    "    self.action_size = action_size\n",
    "    self.memory = deque(maxlen=20000)\n",
    "    self.gamma = 0.95    # discount rate\n",
    "    self.epsilon = 1.0  # exploration rate\n",
    "    self.epsilon_min = 0.01\n",
    "    self.epsilon_decay = 0.995\n",
    "    self.learning_rate = 0.001\n",
    "    self.model = self._build_model()\n",
    "    self.policy = policy\n",
    "\n",
    "    \n",
    "  def _build_model(self):\n",
    "    # Neural Net for Deep-Q learning Model\n",
    "    model = Sequential()\n",
    "    model.add(Dense(24, input_dim=self.state_size, activation='relu'))\n",
    "    model.add(Dense(48, activation='relu'))\n",
    "    model.add(Dense(self.action_size, activation='linear'))\n",
    "    model.compile(loss='mse',\n",
    "                  optimizer=Adam(lr=self.learning_rate))\n",
    "    return model\n",
    "\n",
    "  def remember(self, state, action, reward, next_state, done):\n",
    "    self.memory.append((state, action, reward, next_state, done))\n",
    "\n",
    "  def act(self, state):# We implement the epsilon-greedy policy\n",
    "    if self.policy == \"epsilon-greedy\":\n",
    "        if np.random.rand() <= self.epsilon:\n",
    "            return random.randrange(self.action_size)\n",
    "        act_values = self.model.predict(state)\n",
    "        \n",
    "        return np.argmax(act_values[0]) # returns action\n",
    "    \n",
    "    elif self.policy == \"softmax\":\n",
    "        act_values = self.model.predict(state)\n",
    "        act_cdf = np.cumsum(softmax(act_values))\n",
    "        rseed = np.random.random_sample()\n",
    "        check_ls = [int(a < rseed) for a in act_cdf]\n",
    "        chosen = np.sum(check_ls)\n",
    "        return chosen\n",
    "        \n",
    "    else:\n",
    "        raise ValueError\n",
    "    \n",
    "  def exploit(self, state): # When we test the agent we dont want it to explore anymore, but to exploit what it has learnt\n",
    "    act_values = self.model.predict(state)\n",
    "    return np.argmax(act_values[0]) \n",
    "\n",
    "  def replay(self, batch_size):\n",
    "    minibatch = random.sample(self.memory, batch_size)\n",
    "    \n",
    "    state_b = np.squeeze(np.array(list(map(lambda x: x[0], minibatch))))\n",
    "    action_b = np.squeeze(np.array(list(map(lambda x: x[1], minibatch))))\n",
    "    reward_b = np.squeeze(np.array(list(map(lambda x: x[2], minibatch))))\n",
    "    next_state_b = np.squeeze(np.array(list(map(lambda x: x[3], minibatch))))\n",
    "    done_b = np.squeeze(np.array(list(map(lambda x: x[4], minibatch))))\n",
    "\n",
    "    ### Q-learning\n",
    "    target = (reward_b + self.gamma * np.amax(self.model.predict(next_state_b), 1))\n",
    "    target[done_b==1] = reward_b[done_b==1]\n",
    "    target_f = self.model.predict(state_b)\n",
    "\n",
    "    for k in range(target_f.shape[0]):\n",
    "      target_f[k][action_b[k]] = target[k]\n",
    "    self.model.train_on_batch(state_b, target_f)\n",
    "    if self.epsilon > self.epsilon_min:\n",
    "        self.epsilon *= self.epsilon_decay\n",
    "\n",
    "  def load(self, name):\n",
    "    self.model.load_weights(name)\n",
    "  def save(self, name):\n",
    "    self.model.save_weights(name)"
   ]
  },
  {
   "cell_type": "code",
   "execution_count": 5,
   "metadata": {
    "colab": {},
    "colab_type": "code",
    "id": "FiW8Mr6VfvgM"
   },
   "outputs": [
    {
     "name": "stderr",
     "output_type": "stream",
     "text": [
      "100%|██████████| 500/500 [09:10<00:00,  1.10s/it]\n",
      "100%|██████████| 500/500 [08:59<00:00,  1.08s/it]\n"
     ]
    }
   ],
   "source": [
    "# EPISODES = 500\n",
    "EPISODES = 100 # DEBUG\n",
    "VERBOSE = False\n",
    "\n",
    "env = gym.make('CartPole-v1')\n",
    "state_size = env.observation_space.shape[0]\n",
    "action_size = env.action_space.n\n",
    "batch_size = 32\n",
    "\n",
    "rewards_plot = []\n",
    "\n",
    "agents = [DQNAgent(state_size, action_size, policy=\"epsilon-greedy\"),\n",
    "          DQNAgent(state_size, action_size, policy=\"softmax\")]\n",
    "\n",
    "names = []\n",
    "\n",
    "for agent in agents:\n",
    "    rewards = []\n",
    "    episode_reward_list = deque(maxlen=100)\n",
    "    for e in tqdm(range(EPISODES)):\n",
    "      state = env.reset()\n",
    "      state = np.reshape(state, [1, state_size])\n",
    "      total_reward = 0\n",
    "      for time in range(1000):\n",
    "        action = agent.act(state)\n",
    "        next_state, reward, done, _ = env.step(action)\n",
    "        total_reward += reward\n",
    "        next_state = np.reshape(next_state, [1, state_size])\n",
    "        agent.remember(state, action, reward, next_state, done)\n",
    "        state = next_state\n",
    "        if done:\n",
    "            break\n",
    "        if len(agent.memory) > batch_size:\n",
    "            agent.replay(batch_size)\n",
    "      episode_reward_list.append(total_reward)\n",
    "      episode_reward_avg = np.array(episode_reward_list).mean()\n",
    "      rewards.append(episode_reward_avg)\n",
    "      if not e%25 and VERBOSE:\n",
    "          print(\"episode: {}/{}, score: {}, e: {:.2}, last 100 episodes rew: {:.2f}\"\n",
    "                  .format(e+1, EPISODES, total_reward, agent.epsilon, episode_reward_avg))      \n",
    "    if VERBOSE:\n",
    "        print(\"episode: {}/{}, score: {}, e: {:.2}, last 100 episodes rew: {:.2f}\"\n",
    "                  .format(e+1, EPISODES, total_reward, agent.epsilon, episode_reward_avg))\n",
    "        \n",
    "    rewards_plot.append(rewards)"
   ]
  },
  {
   "cell_type": "code",
   "execution_count": 6,
   "metadata": {},
   "outputs": [
    {
     "data": {
      "image/png": "[encoded data removed]",
      "text/plain": [
       "<Figure size 432x288 with 1 Axes>"
      ]
     },
     "metadata": {
      "needs_background": "light"
     },
     "output_type": "display_data"
    }
   ],
   "source": [
    "\n",
    "plt.figure()\n",
    "for rewards in rewards_plot:\n",
    "    plt.plot(rewards)\n",
    "plt.grid()\n",
    "plt.title(\"Last 100 episodes average reward\")\n",
    "plt.xlabel(\"Episodes trained\")\n",
    "plt.ylabel(\"Reward\")\n",
    "plt.show()"
   ]
  },
  {
   "cell_type": "code",
   "execution_count": 29,
   "metadata": {
    "colab": {},
    "colab_type": "code",
    "id": "h6jVod-LsXLV"
   },
   "outputs": [],
   "source": [
    "agent.save('weights.h5')"
   ]
  },
  {
   "cell_type": "code",
   "execution_count": 8,
   "metadata": {
    "colab": {},
    "colab_type": "code",
    "id": "cvTsuX99scbx"
   },
   "outputs": [],
   "source": [
    "env = gym.make('CartPole-v1')\n",
    "state_size = env.observation_space.shape[0]\n",
    "action_size = env.action_space.n\n",
    "agent = DQNAgent(state_size, action_size)\n",
    "agent.load('weights.h5')"
   ]
  },
  {
   "cell_type": "markdown",
   "metadata": {
    "colab_type": "text",
    "id": "8PF04KiGh0RZ"
   },
   "source": [
    "Let's now visualize how the agent is performing. Be aware that the following code to generate the video is unstable and it might break sometimes randomly. If that happens to you, just load the generated weights and try it once more, there is no need to train your model once again. "
   ]
  },
  {
   "cell_type": "code",
   "execution_count": 10,
   "metadata": {
    "colab": {},
    "colab_type": "code",
    "id": "F-ix7yb8h0Ri"
   },
   "outputs": [],
   "source": [
    "# !apt-get install -y xvfb python-opengl > /dev/null 2>&1\n",
    "# !pip install gym pyvirtualdisplay > /dev/null 2>&1"
   ]
  },
  {
   "cell_type": "code",
   "execution_count": 1,
   "metadata": {
    "colab": {
     "base_uri": "https://localhost:8080/",
     "height": 35
    },
    "colab_type": "code",
    "id": "LBjKH9jgh0Rp",
    "outputId": "88a89770-7514-4779-e477-d6704386f5ed"
   },
   "outputs": [
    {
     "ename": "EasyProcessError",
     "evalue": "start error <EasyProcess cmd_param=['Xvfb', '-help'] cmd=['Xvfb', '-help'] oserror=[Errno 2] No such file or directory: 'Xvfb': 'Xvfb' return_code=None stdout=\"None\" stderr=\"None\" timeout_happened=False>",
     "output_type": "error",
     "traceback": [
      "\u001b[0;31m---------------------------------------------------------------------------\u001b[0m",
      "\u001b[0;31mFileNotFoundError\u001b[0m                         Traceback (most recent call last)",
      "\u001b[0;32m~/.local/lib/python3.7/site-packages/easyprocess/__init__.py\u001b[0m in \u001b[0;36mstart\u001b[0;34m(self)\u001b[0m\n\u001b[1;32m    230\u001b[0m             self.popen = subprocess.Popen(\n\u001b[0;32m--> 231\u001b[0;31m                 \u001b[0mcmd\u001b[0m\u001b[0;34m,\u001b[0m \u001b[0mstdout\u001b[0m\u001b[0;34m=\u001b[0m\u001b[0mstdout\u001b[0m\u001b[0;34m,\u001b[0m \u001b[0mstderr\u001b[0m\u001b[0;34m=\u001b[0m\u001b[0mstderr\u001b[0m\u001b[0;34m,\u001b[0m \u001b[0mcwd\u001b[0m\u001b[0;34m=\u001b[0m\u001b[0mself\u001b[0m\u001b[0;34m.\u001b[0m\u001b[0mcwd\u001b[0m\u001b[0;34m,\u001b[0m \u001b[0menv\u001b[0m\u001b[0;34m=\u001b[0m\u001b[0mself\u001b[0m\u001b[0;34m.\u001b[0m\u001b[0menv\u001b[0m\u001b[0;34m,\u001b[0m\u001b[0;34m\u001b[0m\u001b[0;34m\u001b[0m\u001b[0m\n\u001b[0m\u001b[1;32m    232\u001b[0m             )\n",
      "\u001b[0;32m/usr/lib/python3.7/subprocess.py\u001b[0m in \u001b[0;36m__init__\u001b[0;34m(self, args, bufsize, executable, stdin, stdout, stderr, preexec_fn, close_fds, shell, cwd, env, universal_newlines, startupinfo, creationflags, restore_signals, start_new_session, pass_fds, encoding, errors, text)\u001b[0m\n\u001b[1;32m    774\u001b[0m                                 \u001b[0merrread\u001b[0m\u001b[0;34m,\u001b[0m \u001b[0merrwrite\u001b[0m\u001b[0;34m,\u001b[0m\u001b[0;34m\u001b[0m\u001b[0;34m\u001b[0m\u001b[0m\n\u001b[0;32m--> 775\u001b[0;31m                                 restore_signals, start_new_session)\n\u001b[0m\u001b[1;32m    776\u001b[0m         \u001b[0;32mexcept\u001b[0m\u001b[0;34m:\u001b[0m\u001b[0;34m\u001b[0m\u001b[0;34m\u001b[0m\u001b[0m\n",
      "\u001b[0;32m/usr/lib/python3.7/subprocess.py\u001b[0m in \u001b[0;36m_execute_child\u001b[0;34m(self, args, executable, preexec_fn, close_fds, pass_fds, cwd, env, startupinfo, creationflags, shell, p2cread, p2cwrite, c2pread, c2pwrite, errread, errwrite, restore_signals, start_new_session)\u001b[0m\n\u001b[1;32m   1521\u001b[0m                             \u001b[0merr_msg\u001b[0m \u001b[0;34m+=\u001b[0m \u001b[0;34m': '\u001b[0m \u001b[0;34m+\u001b[0m \u001b[0mrepr\u001b[0m\u001b[0;34m(\u001b[0m\u001b[0merr_filename\u001b[0m\u001b[0;34m)\u001b[0m\u001b[0;34m\u001b[0m\u001b[0;34m\u001b[0m\u001b[0m\n\u001b[0;32m-> 1522\u001b[0;31m                     \u001b[0;32mraise\u001b[0m \u001b[0mchild_exception_type\u001b[0m\u001b[0;34m(\u001b[0m\u001b[0merrno_num\u001b[0m\u001b[0;34m,\u001b[0m \u001b[0merr_msg\u001b[0m\u001b[0;34m,\u001b[0m \u001b[0merr_filename\u001b[0m\u001b[0;34m)\u001b[0m\u001b[0;34m\u001b[0m\u001b[0;34m\u001b[0m\u001b[0m\n\u001b[0m\u001b[1;32m   1523\u001b[0m                 \u001b[0;32mraise\u001b[0m \u001b[0mchild_exception_type\u001b[0m\u001b[0;34m(\u001b[0m\u001b[0merr_msg\u001b[0m\u001b[0;34m)\u001b[0m\u001b[0;34m\u001b[0m\u001b[0;34m\u001b[0m\u001b[0m\n",
      "\u001b[0;31mFileNotFoundError\u001b[0m: [Errno 2] No such file or directory: 'Xvfb': 'Xvfb'",
      "\nDuring handling of the above exception, another exception occurred:\n",
      "\u001b[0;31mEasyProcessError\u001b[0m                          Traceback (most recent call last)",
      "\u001b[0;32m<ipython-input-1-93c6088fc408>\u001b[0m in \u001b[0;36m<module>\u001b[0;34m\u001b[0m\n\u001b[1;32m      4\u001b[0m \u001b[0;32mfrom\u001b[0m \u001b[0mIPython\u001b[0m \u001b[0;32mimport\u001b[0m \u001b[0mdisplay\u001b[0m \u001b[0;32mas\u001b[0m \u001b[0mipythondisplay\u001b[0m\u001b[0;34m\u001b[0m\u001b[0;34m\u001b[0m\u001b[0m\n\u001b[1;32m      5\u001b[0m \u001b[0;32mfrom\u001b[0m \u001b[0mpyvirtualdisplay\u001b[0m \u001b[0;32mimport\u001b[0m \u001b[0mDisplay\u001b[0m\u001b[0;34m\u001b[0m\u001b[0;34m\u001b[0m\u001b[0m\n\u001b[0;32m----> 6\u001b[0;31m \u001b[0mdisplay\u001b[0m \u001b[0;34m=\u001b[0m \u001b[0mDisplay\u001b[0m\u001b[0;34m(\u001b[0m\u001b[0mvisible\u001b[0m\u001b[0;34m=\u001b[0m\u001b[0;36m0\u001b[0m\u001b[0;34m,\u001b[0m \u001b[0msize\u001b[0m\u001b[0;34m=\u001b[0m\u001b[0;34m(\u001b[0m\u001b[0;36m400\u001b[0m\u001b[0;34m,\u001b[0m \u001b[0;36m300\u001b[0m\u001b[0;34m)\u001b[0m\u001b[0;34m)\u001b[0m\u001b[0;34m\u001b[0m\u001b[0;34m\u001b[0m\u001b[0m\n\u001b[0m\u001b[1;32m      7\u001b[0m \u001b[0mdisplay\u001b[0m\u001b[0;34m.\u001b[0m\u001b[0mstart\u001b[0m\u001b[0;34m(\u001b[0m\u001b[0;34m)\u001b[0m\u001b[0;34m\u001b[0m\u001b[0;34m\u001b[0m\u001b[0m\n\u001b[1;32m      8\u001b[0m \u001b[0;32mfrom\u001b[0m \u001b[0mgym\u001b[0m\u001b[0;34m.\u001b[0m\u001b[0mwrappers\u001b[0m \u001b[0;32mimport\u001b[0m \u001b[0mMonitor\u001b[0m\u001b[0;34m\u001b[0m\u001b[0;34m\u001b[0m\u001b[0m\n",
      "\u001b[0;32m~/.local/lib/python3.7/site-packages/pyvirtualdisplay/display.py\u001b[0m in \u001b[0;36m__init__\u001b[0;34m(self, backend, visible, size, color_depth, bgcolor, use_xauth, check_startup, randomizer, **kwargs)\u001b[0m\n\u001b[1;32m     32\u001b[0m                 \u001b[0mself\u001b[0m\u001b[0;34m.\u001b[0m\u001b[0mbackend\u001b[0m \u001b[0;34m=\u001b[0m \u001b[0;34m'xvfb'\u001b[0m\u001b[0;34m\u001b[0m\u001b[0;34m\u001b[0m\u001b[0m\n\u001b[1;32m     33\u001b[0m \u001b[0;34m\u001b[0m\u001b[0m\n\u001b[0;32m---> 34\u001b[0;31m         self._obj = self.display_class(\n\u001b[0m\u001b[1;32m     35\u001b[0m             \u001b[0msize\u001b[0m\u001b[0;34m=\u001b[0m\u001b[0msize\u001b[0m\u001b[0;34m,\u001b[0m\u001b[0;34m\u001b[0m\u001b[0;34m\u001b[0m\u001b[0m\n\u001b[1;32m     36\u001b[0m             \u001b[0mcolor_depth\u001b[0m\u001b[0;34m=\u001b[0m\u001b[0mcolor_depth\u001b[0m\u001b[0;34m,\u001b[0m\u001b[0;34m\u001b[0m\u001b[0;34m\u001b[0m\u001b[0m\n",
      "\u001b[0;32m~/.local/lib/python3.7/site-packages/pyvirtualdisplay/display.py\u001b[0m in \u001b[0;36mdisplay_class\u001b[0;34m(self)\u001b[0m\n\u001b[1;32m     51\u001b[0m \u001b[0;34m\u001b[0m\u001b[0m\n\u001b[1;32m     52\u001b[0m         \u001b[0;31m# TODO: check only once\u001b[0m\u001b[0;34m\u001b[0m\u001b[0;34m\u001b[0m\u001b[0;34m\u001b[0m\u001b[0m\n\u001b[0;32m---> 53\u001b[0;31m         \u001b[0mcls\u001b[0m\u001b[0;34m.\u001b[0m\u001b[0mcheck_installed\u001b[0m\u001b[0;34m(\u001b[0m\u001b[0;34m)\u001b[0m\u001b[0;34m\u001b[0m\u001b[0;34m\u001b[0m\u001b[0m\n\u001b[0m\u001b[1;32m     54\u001b[0m \u001b[0;34m\u001b[0m\u001b[0m\n\u001b[1;32m     55\u001b[0m         \u001b[0;32mreturn\u001b[0m \u001b[0mcls\u001b[0m\u001b[0;34m\u001b[0m\u001b[0;34m\u001b[0m\u001b[0m\n",
      "\u001b[0;32m~/.local/lib/python3.7/site-packages/pyvirtualdisplay/xvfb.py\u001b[0m in \u001b[0;36mcheck_installed\u001b[0;34m(cls)\u001b[0m\n\u001b[1;32m     38\u001b[0m         \u001b[0mp\u001b[0m\u001b[0;34m.\u001b[0m\u001b[0menable_stdout_log\u001b[0m \u001b[0;34m=\u001b[0m \u001b[0;32mFalse\u001b[0m\u001b[0;34m\u001b[0m\u001b[0;34m\u001b[0m\u001b[0m\n\u001b[1;32m     39\u001b[0m         \u001b[0mp\u001b[0m\u001b[0;34m.\u001b[0m\u001b[0menable_stderr_log\u001b[0m \u001b[0;34m=\u001b[0m \u001b[0;32mFalse\u001b[0m\u001b[0;34m\u001b[0m\u001b[0;34m\u001b[0m\u001b[0m\n\u001b[0;32m---> 40\u001b[0;31m         \u001b[0mp\u001b[0m\u001b[0;34m.\u001b[0m\u001b[0mcall\u001b[0m\u001b[0;34m(\u001b[0m\u001b[0;34m)\u001b[0m\u001b[0;34m\u001b[0m\u001b[0;34m\u001b[0m\u001b[0m\n\u001b[0m\u001b[1;32m     41\u001b[0m \u001b[0;34m\u001b[0m\u001b[0m\n\u001b[1;32m     42\u001b[0m     \u001b[0;34m@\u001b[0m\u001b[0mproperty\u001b[0m\u001b[0;34m\u001b[0m\u001b[0;34m\u001b[0m\u001b[0m\n",
      "\u001b[0;32m~/.local/lib/python3.7/site-packages/easyprocess/__init__.py\u001b[0m in \u001b[0;36mcall\u001b[0;34m(self, timeout)\u001b[0m\n\u001b[1;32m    201\u001b[0m \u001b[0;34m\u001b[0m\u001b[0m\n\u001b[1;32m    202\u001b[0m         \"\"\"\n\u001b[0;32m--> 203\u001b[0;31m         \u001b[0mself\u001b[0m\u001b[0;34m.\u001b[0m\u001b[0mstart\u001b[0m\u001b[0;34m(\u001b[0m\u001b[0;34m)\u001b[0m\u001b[0;34m.\u001b[0m\u001b[0mwait\u001b[0m\u001b[0;34m(\u001b[0m\u001b[0mtimeout\u001b[0m\u001b[0;34m=\u001b[0m\u001b[0mtimeout\u001b[0m\u001b[0;34m)\u001b[0m\u001b[0;34m\u001b[0m\u001b[0;34m\u001b[0m\u001b[0m\n\u001b[0m\u001b[1;32m    204\u001b[0m         \u001b[0;32mif\u001b[0m \u001b[0mself\u001b[0m\u001b[0;34m.\u001b[0m\u001b[0mis_alive\u001b[0m\u001b[0;34m(\u001b[0m\u001b[0;34m)\u001b[0m\u001b[0;34m:\u001b[0m\u001b[0;34m\u001b[0m\u001b[0;34m\u001b[0m\u001b[0m\n\u001b[1;32m    205\u001b[0m             \u001b[0mself\u001b[0m\u001b[0;34m.\u001b[0m\u001b[0mstop\u001b[0m\u001b[0;34m(\u001b[0m\u001b[0;34m)\u001b[0m\u001b[0;34m\u001b[0m\u001b[0;34m\u001b[0m\u001b[0m\n",
      "\u001b[0;32m~/.local/lib/python3.7/site-packages/easyprocess/__init__.py\u001b[0m in \u001b[0;36mstart\u001b[0;34m(self)\u001b[0m\n\u001b[1;32m    234\u001b[0m             \u001b[0mlog\u001b[0m\u001b[0;34m.\u001b[0m\u001b[0mdebug\u001b[0m\u001b[0;34m(\u001b[0m\u001b[0;34m\"OSError exception: %s\"\u001b[0m\u001b[0;34m,\u001b[0m \u001b[0moserror\u001b[0m\u001b[0;34m)\u001b[0m\u001b[0;34m\u001b[0m\u001b[0;34m\u001b[0m\u001b[0m\n\u001b[1;32m    235\u001b[0m             \u001b[0mself\u001b[0m\u001b[0;34m.\u001b[0m\u001b[0moserror\u001b[0m \u001b[0;34m=\u001b[0m \u001b[0moserror\u001b[0m\u001b[0;34m\u001b[0m\u001b[0;34m\u001b[0m\u001b[0m\n\u001b[0;32m--> 236\u001b[0;31m             \u001b[0;32mraise\u001b[0m \u001b[0mEasyProcessError\u001b[0m\u001b[0;34m(\u001b[0m\u001b[0mself\u001b[0m\u001b[0;34m,\u001b[0m \u001b[0;34m\"start error\"\u001b[0m\u001b[0;34m)\u001b[0m\u001b[0;34m\u001b[0m\u001b[0;34m\u001b[0m\u001b[0m\n\u001b[0m\u001b[1;32m    237\u001b[0m         \u001b[0mself\u001b[0m\u001b[0;34m.\u001b[0m\u001b[0mis_started\u001b[0m \u001b[0;34m=\u001b[0m \u001b[0;32mTrue\u001b[0m\u001b[0;34m\u001b[0m\u001b[0;34m\u001b[0m\u001b[0m\n\u001b[1;32m    238\u001b[0m         \u001b[0mlog\u001b[0m\u001b[0;34m.\u001b[0m\u001b[0mdebug\u001b[0m\u001b[0;34m(\u001b[0m\u001b[0;34m\"process was started (pid=%s)\"\u001b[0m\u001b[0;34m,\u001b[0m \u001b[0mself\u001b[0m\u001b[0;34m.\u001b[0m\u001b[0mpid\u001b[0m\u001b[0;34m)\u001b[0m\u001b[0;34m\u001b[0m\u001b[0;34m\u001b[0m\u001b[0m\n",
      "\u001b[0;31mEasyProcessError\u001b[0m: start error <EasyProcess cmd_param=['Xvfb', '-help'] cmd=['Xvfb', '-help'] oserror=[Errno 2] No such file or directory: 'Xvfb': 'Xvfb' return_code=None stdout=\"None\" stderr=\"None\" timeout_happened=False>"
     ]
    }
   ],
   "source": [
    "import gym\n",
    "import numpy as np\n",
    "import matplotlib.pyplot as plt\n",
    "from IPython import display as ipythondisplay\n",
    "from pyvirtualdisplay import Display\n",
    "display = Display(visible=0, size=(400, 300))\n",
    "display.start()\n",
    "from gym.wrappers import Monitor\n",
    "import glob\n",
    "import io\n",
    "import base64\n",
    "from IPython.display import HTML\n",
    "import numpy as np\n",
    "import gym\n",
    "import random"
   ]
  },
  {
   "cell_type": "code",
   "execution_count": null,
   "metadata": {
    "colab": {},
    "colab_type": "code",
    "id": "VL1VLbuBh0Rt"
   },
   "outputs": [],
   "source": [
    "\"\"\"\n",
    "Utility functions to enable video recording of gym environment and displaying it\n",
    "To enable video, just do \"env = wrap_env(env)\"\"\n",
    "\"\"\"\n",
    "\n",
    "def show_video():\n",
    "  mp4list = glob.glob('video/*.mp4')\n",
    "  if len(mp4list) > 0:\n",
    "    mp4 = mp4list[0]\n",
    "    video = io.open(mp4, 'r+b').read()\n",
    "    encoded = base64.b64encode(video)\n",
    "    ipythondisplay.display(HTML(data='''<video alt=\"test\" autoplay \n",
    "                loop controls style=\"height: 400px;\">\n",
    "                <source src=\"data:video/mp4;base64,{0}\" type=\"video/mp4\" />\n",
    "             </video>'''.format(encoded.decode('ascii'))))\n",
    "  else: \n",
    "    print(\"Could not find video\")\n",
    "    \n",
    "\n",
    "def wrap_env(env):\n",
    "  env = Monitor(env, './video', force=True)\n",
    "  return env"
   ]
  },
  {
   "cell_type": "code",
   "execution_count": 6,
   "metadata": {
    "colab": {
     "base_uri": "https://localhost:8080/",
     "height": 474
    },
    "colab_type": "code",
    "id": "-ZEBN6nph0Rz",
    "outputId": "63ac776f-51f6-43c6-ccf4-e0cc52c154bd"
   },
   "outputs": [
    {
     "name": "stderr",
     "output_type": "stream",
     "text": [
      "/usr/local/lib/python3.6/dist-packages/gym/logger.py:30: UserWarning: \u001b[33mWARN: Box bound precision lowered by casting to float32\u001b[0m\n",
      "  warnings.warn(colorize('%s: %s'%('WARN', msg % args), 'yellow'))\n"
     ]
    },
    {
     "data": {
      "text/html": [
       "<video alt=\"test\" autoplay \n",
       "                loop controls style=\"height: 400px;\">\n",
       "                <source src=\"data:video/mp4;base64,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\" type=\"video/mp4\" />\n",
       "             </video>"
      ],
      "text/plain": [
       "<IPython.core.display.HTML object>"
      ]
     },
     "metadata": {
      "tags": []
     },
     "output_type": "display_data"
    },
    {
     "data": {
      "text/plain": [
       "array([ 0.02346043,  0.02596189, -0.02559339, -0.00492287])"
      ]
     },
     "execution_count": 6,
     "metadata": {
      "tags": []
     },
     "output_type": "execute_result"
    }
   ],
   "source": [
    "env = wrap_env(gym.make('CartPole-v1'))\n",
    "state_size = env.observation_space.shape[0]\n",
    "action_size = env.action_space.n\n",
    "done = False\n",
    "state = env.reset()\n",
    "state = np.reshape(state, [1, state_size])\n",
    "for time in range(1000000000):\n",
    "    screen = env.render()\n",
    "    action = agent.exploit(state)\n",
    "    state, reward, done, _ = env.step(action)\n",
    "    state = np.reshape(state, [1, state_size])\n",
    "    if done:\n",
    "      break\n",
    "env.close()\n",
    "show_video()\n",
    "env.reset()"
   ]
  }
 ],
 "metadata": {
  "accelerator": "GPU",
  "colab": {
   "collapsed_sections": [],
   "include_colab_link": true,
   "name": "2020_09_RL.ipynb",
   "provenance": [],
   "toc_visible": true
  },
  "kernelspec": {
   "display_name": "Python 3",
   "language": "python",
   "name": "python3"
  },
  "language_info": {
   "codemirror_mode": {
    "name": "ipython",
    "version": 3
   },
   "file_extension": ".py",
   "mimetype": "text/x-python",
   "name": "python",
   "nbconvert_exporter": "python",
   "pygments_lexer": "ipython3",
   "version": "3.7.3"
  }
 },
 "nbformat": 4,
 "nbformat_minor": 4
}
