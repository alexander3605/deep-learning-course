{
 "cells": [
  {
   "cell_type": "markdown",
   "metadata": {
    "colab_type": "text",
    "id": "view-in-github"
   },
   "source": [
    "<a href=\"https://colab.research.google.com/github/MatchLab-Imperial/deep-learning-course/blob/master/2020_05_CNN_architectures.ipynb\" target=\"_parent\"><img src=\"https://colab.research.google.com/assets/colab-badge.svg\" alt=\"Open In Colab\"/></a>"
   ]
  },
  {
   "cell_type": "markdown",
   "metadata": {
    "colab_type": "text",
    "id": "IhXUenVgBmjf"
   },
   "source": [
    "# Introduction to Convolutional Neural Networks Architectures\n",
    "In this tutorial, we will learn about well-known CNN architectures in the field of computer vision and how to implement them in Keras. \n",
    "\n",
    "\n",
    "\n",
    "\n"
   ]
  },
  {
   "cell_type": "code",
   "execution_count": null,
   "metadata": {},
   "outputs": [],
   "source": [
    "import warnings\n",
    "warnings.filterwarnings('ignore')\n",
    "from keras import backend as K\n",
    "print(K.tensorflow_backend._get_available_gpus())\n",
    "from tensorflow.python.client import device_lib\n",
    "print(device_lib.list_local_devices())\n",
    "\n",
    "import os\n",
    "os.environ[\"CUDA_DEVICE_ORDER\"] = \"PCI_BUS_ID\" \n",
    "os.environ[\"CUDA_VISIBLE_DEVICES\"] = \"1\"  # use id from $ nvidia-smi"
   ]
  },
  {
   "cell_type": "markdown",
   "metadata": {
    "colab_type": "text",
    "id": "auwuthntar8h"
   },
   "source": [
    "# CNNs in Image Classification\n",
    "We will start this tutorial by presenting the networks that have been widely used for image classification.  (One of the most famous problems among the computer vision community is the annual software contest run by the ImageNet project, **ImageNet Large Scale Visual Recognition Challenge (ILSVRC)**. This task evaluates how well an algorithm does in the tasks of object category classification and detection on hundreds of object categories and millions of images. \n",
    "\n",
    "As ImageNet is a massive dataset, we will use instead CIFAR10 dataset, which is directly available on Keras. \n",
    "\n",
    "\n",
    "CIFAR10 dataset contains 10 different classes and 32x32 images, instead of 224x224 as in ImageNet. We will show how to resize the data to be able to use some of the following architectures, as not all of the CNN accepts arbitrary input sizes. The ones that do, will use the original CIFAR10 input size. "
   ]
  },
  {
   "cell_type": "code",
   "execution_count": null,
   "metadata": {
    "colab": {},
    "colab_type": "code",
    "id": "i87in95Fj0zF"
   },
   "outputs": [],
   "source": [
    "import warnings\n",
    "warnings.filterwarnings('ignore')\n",
    "import keras\n",
    "from keras.datasets import cifar10\n",
    "from keras.utils import to_categorical\n",
    "\n",
    "# Load the data, shuffled and split between train and test sets\n",
    "(x_train, y_train), (x_test, y_test) = cifar10.load_data()"
   ]
  },
  {
   "cell_type": "markdown",
   "metadata": {
    "colab_type": "text",
    "id": "gaQUxiIirq3r"
   },
   "source": [
    "To resize the dataset, and as a CIFAR10 224x224 version would not fit in our RAM, we need to create a preprocessing step before the first layer. This step will resize the input batch to the required size. To do so, we use the `Lambda` layer in Keras, which wraps any expression (in this case `resize_images`) in a layer. We can see how this function looks like for a single batch of 32 images."
   ]
  },
  {
   "cell_type": "code",
   "execution_count": null,
   "metadata": {
    "colab": {
     "base_uri": "https://localhost:8080/",
     "height": 286
    },
    "colab_type": "code",
    "id": "1FihA5egr6qs",
    "outputId": "f3acfe73-e81c-4bfa-89be-1eac9ffd32cc"
   },
   "outputs": [],
   "source": [
    "import numpy as np\n",
    "import scipy.ndimage\n",
    "import matplotlib.pyplot as plt\n",
    "\n",
    "from keras.layers import Lambda, Input\n",
    "from keras.models import Model, Sequential\n",
    "import tensorflow as ktf\n",
    "ktf.logging.set_verbosity(ktf.logging.ERROR)\n",
    "\n",
    "\n",
    "inp = Input(shape=(32, 32, 3))\n",
    "out = Lambda(lambda image: ktf.image.resize_images(image, (224, 224)))(inp)\n",
    "\n",
    "model = Model(inputs=inp, outputs=out)\n",
    "\n",
    "x_train_resized = model.predict(x_train[:32, ...])\n",
    "print(x_train_resized.shape)\n",
    "\n",
    "# Visualization purposes\n",
    "x_train_resized = np.asarray(x_train_resized, dtype = np.int)\n",
    "    \n",
    "# Let's visualize some examples\n",
    "N=2\n",
    "start_val = 0 # pick an element for the code to plot the following N**2 values\n",
    "fig, axes = plt.subplots(N,N)\n",
    "items = list(range(0, 100))\n",
    "for row in range(N):\n",
    "  for col in range(N):\n",
    "    idx = start_val+row+N*col\n",
    "    axes[row,col].imshow(x_train_resized[idx], cmap='gray')\n",
    "    fig.subplots_adjust(hspace=0.5)\n",
    "    y_target = int(y_train[idx])\n",
    "    target = str(items[y_target])\n",
    "    axes[row,col].set_title(target)\n",
    "    axes[row,col].set_xticks([])\n",
    "    axes[row,col].set_yticks([])"
   ]
  },
  {
   "cell_type": "markdown",
   "metadata": {
    "colab_type": "text",
    "id": "Qw0FyvNCizwx"
   },
   "source": [
    "Let's get ready the dataset:"
   ]
  },
  {
   "cell_type": "code",
   "execution_count": null,
   "metadata": {
    "colab": {
     "base_uri": "https://localhost:8080/",
     "height": 53
    },
    "colab_type": "code",
    "id": "eGI2w-ssjAmZ",
    "outputId": "f639ebf7-d15d-4579-ac0a-6e3b7ce95baf"
   },
   "outputs": [],
   "source": [
    "num_classes = 10\n",
    "y_train=to_categorical(y_train,num_classes)\n",
    "y_test=to_categorical(y_test,num_classes) \n",
    "\n",
    "x_train = x_train.astype('float32')\n",
    "x_test = x_test.astype('float32')\n",
    "x_train /= 255.\n",
    "x_test /= 255.\n",
    "\n",
    "print('Original training data shape: {}'.format(x_train.shape))\n",
    "print('Training label shape: {}'.format(y_train.shape))"
   ]
  },
  {
   "cell_type": "markdown",
   "metadata": {
    "colab_type": "text",
    "id": "zwo-H2oSfQ0s"
   },
   "source": [
    "## AlexNet\n",
    "\n",
    "AlexNet made a huge impact in 2012 when it reduced the top-5 error (i.e. the correct class is not among the top-5 predictions) from 26% to 15.3% in the ImageNet challenge. The second place was close to 26.2%, and it was not a CNN based system. AlexNet shares a lot with its predecessor architecture, [LeNet](http://yann.lecun.com/exdb/publis/pdf/lecun-98.pdf) by Yann LeCun et al. However, in this case, the computational complexity was more plausible to deal with that it was years before, therefore, authors decided to make the architecture bigger: more convolutional layers and more filters. \n",
    "\n",
    "The architecture designed in their paper:\n",
    "\n",
    "![texto alternativo](https://i.ibb.co/QFG561f/0-x-POQ3bt-Z9r-QO23-LK.png)\n",
    "\n",
    "The network consisted of convolutional layers with kernels of 11x11, 5x5 and 3x3. The architecture uses layers with strides, max poolings, dropouts, ReLU activation functions, and three dense layers at the end. The original network was split in two, as seen in the figure above, however, due to GPU constraints authors needed to train it on two separate GPUs. We found a great implementation in [Rizwan's blog](https://engmrk.com/alexnet-implementation-using-keras/), where it presented an AlexNet model without the split concept."
   ]
  },
  {
   "cell_type": "code",
   "execution_count": null,
   "metadata": {
    "colab": {},
    "colab_type": "code",
    "id": "7U4lWS9WyBP0"
   },
   "outputs": [],
   "source": [
    "from keras.layers import Dense, Activation, Dropout, Flatten, Conv2D, MaxPooling2D\n",
    "from keras.models import Sequential\n",
    "\n",
    "model = Sequential()\n",
    "\n",
    "# Resize input image\n",
    "model.add(Lambda(lambda x: ktf.image.resize_images(x, (224, 224)), input_shape=(32,32,3)))\n",
    "\n",
    "# 1st Convolutional Layer\n",
    "model.add(Conv2D(filters=96, kernel_size=(11,11), strides=(4,4), padding='valid'))\n",
    "model.add(Activation('relu'))\n",
    "model.add(MaxPooling2D(pool_size=(2,2), strides=(2,2), padding='valid'))\n",
    "\n",
    "# 2nd Convolutional Layer\n",
    "model.add(Conv2D(filters=256, kernel_size=(11,11), strides=(1,1), padding='valid'))\n",
    "model.add(Activation('relu'))\n",
    "model.add(MaxPooling2D(pool_size=(2,2), strides=(2,2), padding='valid'))\n",
    "\n",
    "# 3rd Convolutional Layer\n",
    "model.add(Conv2D(filters=384, kernel_size=(3,3), strides=(1,1), padding='valid'))\n",
    "model.add(Activation('relu'))\n",
    "\n",
    "# 4th Convolutional Layer\n",
    "model.add(Conv2D(filters=384, kernel_size=(3,3), strides=(1,1), padding='valid'))\n",
    "model.add(Activation('relu'))\n",
    "\n",
    "# 5th Convolutional Layer\n",
    "model.add(Conv2D(filters=256, kernel_size=(3,3), strides=(1,1), padding='valid'))\n",
    "model.add(Activation('relu'))\n",
    "model.add(MaxPooling2D(pool_size=(2,2), strides=(2,2), padding='valid'))\n",
    "\n",
    "# Passing it to a Fully Connected layer\n",
    "model.add(Flatten())\n",
    "\n",
    "# 1st Fully Connected Layer\n",
    "model.add(Dense(4096, input_shape=(224*224*3,)))\n",
    "model.add(Activation('relu'))\n",
    "# Add Dropout to prevent overfitting\n",
    "model.add(Dropout(0.4))\n",
    "\n",
    "# 2nd Fully Connected Layer\n",
    "model.add(Dense(4096))\n",
    "model.add(Activation('relu'))\n",
    "# Add Dropout\n",
    "model.add(Dropout(0.4))\n",
    "\n",
    "# 3rd Fully Connected Layer\n",
    "model.add(Dense(10))\n",
    "model.add(Activation('softmax'))"
   ]
  },
  {
   "cell_type": "markdown",
   "metadata": {
    "colab_type": "text",
    "id": "xSfj3T_T0ZZ9"
   },
   "source": [
    "Now, we are ready to train this AlexNet model on CIFAR10. "
   ]
  },
  {
   "cell_type": "code",
   "execution_count": null,
   "metadata": {
    "colab": {
     "base_uri": "https://localhost:8080/",
     "height": 161
    },
    "colab_type": "code",
    "id": "BsOYPKwB0k52",
    "outputId": "da8ddbe7-caab-4f05-e6f1-9165581fc11b"
   },
   "outputs": [],
   "source": [
    "model.compile(loss='categorical_crossentropy',\n",
    "              optimizer='adam',\n",
    "              metrics=['accuracy'])\n",
    "\n",
    "model.fit(x_train, y_train, batch_size=32, validation_split=0.2, epochs=3)"
   ]
  },
  {
   "cell_type": "markdown",
   "metadata": {
    "colab_type": "text",
    "id": "u-LaLUyEGvfM"
   },
   "source": [
    "Let's test it:"
   ]
  },
  {
   "cell_type": "code",
   "execution_count": null,
   "metadata": {
    "colab": {
     "base_uri": "https://localhost:8080/",
     "height": 71
    },
    "colab_type": "code",
    "id": "q0XC8B0fGxSu",
    "outputId": "4c8f6200-8a86-4e97-c248-73bcd6ae8738"
   },
   "outputs": [],
   "source": [
    "score = model.evaluate(x_test, y_test)\n",
    "print('Test loss:', score[0])\n",
    "print('Test accuracy:', score[1])"
   ]
  },
  {
   "cell_type": "markdown",
   "metadata": {
    "colab_type": "text",
    "id": "7zyJoeM76R6W"
   },
   "source": [
    "Training this kind of architectures in big datasets is time-consuming. We might need to train for several hours to start getting good results. That is why Keras offers several pre-trained models on the ImageNet dataset. Those models can be used directly for image prediction, image classification, feature extraction, or fine-tuning, among others, without the need of spending long hours of training. Even if the task or the dataset is different, using the pre-trained weights as initialization for the training process provides usually quite better results (as well as less time needed for training and better accuracy) than using a random initialization."
   ]
  },
  {
   "cell_type": "markdown",
   "metadata": {
    "colab_type": "text",
    "id": "wks8tkdjdtgV"
   },
   "source": [
    "# Loading Pre-trained Models in Keras\n",
    "\n",
    "As mentioned, Keras contains many models that have been pre-trained in the ImageNet dataset to solve the ILSVRC competition. Those deep learning models are made available alongside their pre-trained weights, which has become a common practice to initialize networks. You can learn more about it [here](https://keras.io/applications/). \n",
    "\n",
    "We will show how to instantiate the models and load their weights. Afterward, we will modify the last layer to classify only the 10 classes belonging to CIFAR10."
   ]
  },
  {
   "cell_type": "markdown",
   "metadata": {
    "colab_type": "text",
    "id": "GWbK1gE99o7K"
   },
   "source": [
    "## VGGNet\n",
    "\n",
    "VGGNet is an architecture presented by Simonyan and Zisserman in 2014. VGGNet is similar to previous AlexNet, however, it only contains 3x3 convolutional kernels and many more filters. It is widely used for extracting features, not only for image classification but for many other computer vision domains, such as feature representation, style transfer or the image description. You can check the [paper](https://arxiv.org/pdf/1409.1556.pdf) for further details. Next image shows VGG16 architecture ([source](https://www.cs.toronto.edu/~frossard/post/vgg16/)):\n",
    "\n",
    "![](https://www.cs.toronto.edu/~frossard/post/vgg16/vgg16.png)\n",
    "\n",
    "The training time of the architecture is massive since it has more than 130 million parameters. Thankfully, we can find it already pre-trained in Keras. Keras has the two proposed versions, VGG16 and VGG19, where the difference lies in the number of weight layers within the network.\n"
   ]
  },
  {
   "cell_type": "code",
   "execution_count": null,
   "metadata": {
    "colab": {},
    "colab_type": "code",
    "id": "CPpzPdYAREBb"
   },
   "outputs": [],
   "source": [
    "from keras.applications.vgg16 import VGG16\n",
    "\n",
    "model = VGG16(input_shape=(224, 224, 3))\n",
    "\n",
    "# Optionally, uncomment the following line to display the full model\n",
    "model.summary()"
   ]
  },
  {
   "cell_type": "markdown",
   "metadata": {
    "colab_type": "text",
    "id": "t3ZLsBmIRpqQ"
   },
   "source": [
    "If we want to load weights from ImageNet we only need to initialize the model as follows:"
   ]
  },
  {
   "cell_type": "code",
   "execution_count": null,
   "metadata": {
    "colab": {},
    "colab_type": "code",
    "id": "B29erHYWRp9Y"
   },
   "outputs": [],
   "source": [
    "model = VGG16(weights='imagenet', input_shape=(224, 224, 3))"
   ]
  },
  {
   "cell_type": "markdown",
   "metadata": {
    "colab_type": "text",
    "id": "Z6TMSj9r3Dkr"
   },
   "source": [
    "Now, we want to change the last layer for one dense layer with 10 activation neurons. This new layer will allow us to perform classification on CIFAR10. Besides, we will freeze all pre-trained layers and only allow the new dense layer to be trained. "
   ]
  },
  {
   "cell_type": "code",
   "execution_count": null,
   "metadata": {
    "colab": {},
    "colab_type": "code",
    "id": "P1c26De_3ihg"
   },
   "outputs": [],
   "source": [
    "from keras.models import Model\n",
    "from keras.layers import Dense\n",
    "\n",
    "#Load the VGG\n",
    "model = VGG16(weights='imagenet', include_top=True, input_shape=(224, 224, 3))\n",
    "\n",
    "# Freeze all the layers\n",
    "for layer in model.layers[:]:\n",
    "    layer.trainable = False\n",
    "    \n",
    "output = model.get_layer('fc2').output\n",
    "output = Dense(units=10, activation='softmax')(output)\n",
    "model = Model(model.input, output)"
   ]
  },
  {
   "cell_type": "markdown",
   "metadata": {
    "colab_type": "text",
    "id": "I3gLnH3p4Wl6"
   },
   "source": [
    "Let's see the model now, and confirm that the last layer is not there anymore, and instead, we have a new dense layer with only 10 activations. Also, as we have frozen the weights of the model, we should see only the trainable parameters belonging to the new dense layer."
   ]
  },
  {
   "cell_type": "code",
   "execution_count": null,
   "metadata": {
    "colab": {
     "base_uri": "https://localhost:8080/",
     "height": 989
    },
    "colab_type": "code",
    "id": "MX2lK4YB4leZ",
    "outputId": "148bfa80-e7a5-438a-f58c-7d57d4ac8d85"
   },
   "outputs": [],
   "source": [
    "model.summary()"
   ]
  },
  {
   "cell_type": "markdown",
   "metadata": {
    "colab_type": "text",
    "id": "1p1qVDFC-KoP"
   },
   "source": [
    " As we have done before, we can add the lambda function to resize the images within our Keras model:"
   ]
  },
  {
   "cell_type": "code",
   "execution_count": null,
   "metadata": {
    "colab": {},
    "colab_type": "code",
    "id": "twaI6se2-I3g"
   },
   "outputs": [],
   "source": [
    "newInput = Input(batch_shape=(None, 32, 32, 3))\n",
    "resizedImg = Lambda(lambda image: ktf.image.resize_images(image, (224, 224)))(newInput)\n",
    "newOutputs = model(resizedImg)\n",
    "model = Model(newInput, newOutputs)"
   ]
  },
  {
   "cell_type": "markdown",
   "metadata": {
    "colab_type": "text",
    "id": "JdIufD1rDyig"
   },
   "source": [
    "If we want to use images of 32x32 we need to set the argument `include_top` to `False`, which will remove all dense layers at the end of the architecture. The dense layers in VGG are the ones that limit the input size to be 224x224 as they need a fixed dimension as input. Also, note that due to the MaxPooling operations, we need inputs of at least 32x32. If we remove the dense layers, we need to include new ones before starting the training process.\n",
    "\n"
   ]
  },
  {
   "cell_type": "code",
   "execution_count": null,
   "metadata": {
    "colab": {},
    "colab_type": "code",
    "id": "vDjgj0Q4Ds1-"
   },
   "outputs": [],
   "source": [
    "from keras.layers import Dense, Flatten\n",
    "\n",
    "model = VGG16(include_top=False, input_shape=(32,32,3), weights='imagenet')\n",
    "\n",
    "# Freeze all the layers\n",
    "for layer in model.layers[:]:\n",
    "    layer.trainable = False\n",
    "\n",
    "# Add Dense layer as in VGG16\n",
    "output = model.output\n",
    "output = Flatten()(output)\n",
    "output = Dense(units=4096, activation='relu')(output)\n",
    "output = Dense(units=4096, activation='relu')(output)\n",
    "output = Dense(units=10, activation='softmax')(output)\n",
    "model = Model(model.input, output)"
   ]
  },
  {
   "cell_type": "markdown",
   "metadata": {
    "colab_type": "text",
    "id": "Izc03Dfc7lL_"
   },
   "source": [
    "Now we have trainable parameters belonging to the last layers, so we are ready to fine-tune the VGG architecture."
   ]
  },
  {
   "cell_type": "code",
   "execution_count": null,
   "metadata": {
    "colab": {
     "base_uri": "https://localhost:8080/",
     "height": 161
    },
    "colab_type": "code",
    "id": "8IRy6UZf70rU",
    "outputId": "8b97cd79-e5b2-4e6e-85b3-9ea904cbc168"
   },
   "outputs": [],
   "source": [
    "model.compile(optimizer='adam',loss='categorical_crossentropy', metrics=['categorical_accuracy'])\n",
    "model.fit(x_train, y_train, epochs=3, batch_size=32,  validation_split=0.2)"
   ]
  },
  {
   "cell_type": "markdown",
   "metadata": {
    "colab_type": "text",
    "id": "xybWrAjbBcyh"
   },
   "source": [
    "Let's evaluate it:"
   ]
  },
  {
   "cell_type": "code",
   "execution_count": null,
   "metadata": {
    "colab": {
     "base_uri": "https://localhost:8080/",
     "height": 71
    },
    "colab_type": "code",
    "id": "nW75Tn5b8LcL",
    "outputId": "2c7d3b93-5927-4aca-8d8f-81c983f647b5"
   },
   "outputs": [],
   "source": [
    "score = model.evaluate(x_test, y_test)\n",
    "print('Test loss:', score[0])\n",
    "print('Test accuracy:', score[1])"
   ]
  },
  {
   "cell_type": "markdown",
   "metadata": {
    "colab_type": "text",
    "id": "rSaBmsu7IKD9"
   },
   "source": [
    "## GoogLeNet / Inception v1\n",
    "\n",
    "Google presented [GoogLeNet](https://arxiv.org/pdf/1409.4842.pdf) in 2014, the same year that VGGNet was introduced.  GoogLeNet won the ImageNet competition achieving a top-5 error rate of 6.67%, almost betting the human error rate (5%). \n",
    "\n",
    "GoogLeNet introduced many ideas that helped the development of current state-of-the-art architectures. Instead of stacking more and more CNN layers, GoogLeNet introduced what the called inception modules:\n",
    " \n",
    "![](https://i.ibb.co/JKqptrj/Googlenet-inception.png)\n",
    "\n",
    "Those modules apply convolutions with 3 different sizes of kernels (1x1, 3x3 and 5x5) at the same level. The idea behind those modules is based on the premise that significant information can be presented in images at numerous different sizes. Therefore, by using a multi-scale approach, they are more likely to capture meaningful information. Moreover, they claimed that by designing a wider, instead of deeper, architecture helps the gradients to go through the entire network easily.\n",
    "\n",
    "![](https://cdn-images-1.medium.com/max/1600/1*uW81y16b-ptBDV8SIT1beQ.png)\n",
    "\n",
    "The architecture consisted of 9 inception modules stacked linearly, containing 22 deep CNN layers, however, the total number of parameters was reduced to 4 millions! Authors also included two auxiliary classifiers in the middle part of the architecture to avoid the vanishing gradient problem.\n",
    "\n",
    "You can find a Keras implementation [here](https://gist.github.com/joelouismarino/a2ede9ab3928f999575423b9887abd14)."
   ]
  },
  {
   "cell_type": "markdown",
   "metadata": {
    "colab_type": "text",
    "id": "aGCXlBgVIxP6"
   },
   "source": [
    "Original Inception v1 was a complex and heavily engineered architecture, and therefore many tricks were presented to push its performance, both in terms of speed and accuracy. The constant evolution of the architecture leads to the creation of several versions, a list and explanation of their differences can be found in [this blog](https://towardsdatascience.com/a-simple-guide-to-the-versions-of-the-inception-network-7fc52b863202).  \n",
    "\n",
    "In Keras, the Inception v3 architecture is available, together with its pre-trained weights on ImageNet. It can be initialized as follows:"
   ]
  },
  {
   "cell_type": "code",
   "execution_count": null,
   "metadata": {
    "colab": {
     "base_uri": "https://localhost:8080/",
     "height": 53
    },
    "colab_type": "code",
    "id": "Lw6quKrOpGjT",
    "outputId": "de9c9518-ef2e-43da-8509-3b3a78b24bd6"
   },
   "outputs": [],
   "source": [
    "from keras.applications.inception_v3 import InceptionV3\n",
    "\n",
    "model = InceptionV3(include_top=True, weights='imagenet', classes=1000)"
   ]
  },
  {
   "cell_type": "markdown",
   "metadata": {
    "colab_type": "text",
    "id": "rxmx-iMnp4Wz"
   },
   "source": [
    "We can see its performance in CIFAR10. First of all, we will resize images to 75x75  which is the minimum size required by Inception v3 to work:"
   ]
  },
  {
   "cell_type": "code",
   "execution_count": null,
   "metadata": {
    "colab": {
     "base_uri": "https://localhost:8080/",
     "height": 377
    },
    "colab_type": "code",
    "id": "jkGHeRxZrwWL",
    "outputId": "1d5ff168-e77f-417b-f37b-750fdc2602ac"
   },
   "outputs": [],
   "source": [
    "from keras.models import Model\n",
    "from keras.layers import Lambda, Input\n",
    "from keras.layers import Dense, GlobalAveragePooling2D\n",
    "from keras.applications.inception_v3 import InceptionV3\n",
    "\n",
    "model = InceptionV3(include_top=False, input_shape=(75, 75, 3), weights='imagenet')\n",
    "\n",
    "# Resize Input images to 75x75\n",
    "newInput = Input(batch_shape=(None, 32, 32, 3))\n",
    "resizedImg = Lambda(lambda image: ktf.image.resize_images(image, (75, 75)))(newInput)\n",
    "newOutputs = model(resizedImg)\n",
    "model = Model(newInput, newOutputs)\n",
    "\n",
    "# Freeze all the layers\n",
    "for layer in model.layers[:]:\n",
    "    layer.trainable = False\n",
    "\n",
    "# Add Dense layer to classify on CIFAR10\n",
    "output = model.output\n",
    "output = GlobalAveragePooling2D()(output)\n",
    "output = Dense(units=10, activation='softmax')(output)\n",
    "model = Model(model.input, output)\n",
    "\n",
    "model.summary()"
   ]
  },
  {
   "cell_type": "markdown",
   "metadata": {
    "colab_type": "text",
    "id": "fZwcxCiGxRQ-"
   },
   "source": [
    "We can train Inception v3:"
   ]
  },
  {
   "cell_type": "code",
   "execution_count": null,
   "metadata": {
    "colab": {
     "base_uri": "https://localhost:8080/",
     "height": 179
    },
    "colab_type": "code",
    "id": "n_kaiLcGxE8V",
    "outputId": "08ae0c16-c922-4fd7-ac76-a87121aca019"
   },
   "outputs": [],
   "source": [
    "print(x_train.shape)\n",
    "model.compile(optimizer='adam',loss='categorical_crossentropy', metrics=['categorical_accuracy'])\n",
    "model.fit(x_train, y_train, epochs=3, batch_size=32,  validation_split=0.2)"
   ]
  },
  {
   "cell_type": "markdown",
   "metadata": {
    "colab_type": "text",
    "id": "9PbyNXbWxT_U"
   },
   "source": [
    "And check its accuracy:"
   ]
  },
  {
   "cell_type": "code",
   "execution_count": null,
   "metadata": {
    "colab": {
     "base_uri": "https://localhost:8080/",
     "height": 71
    },
    "colab_type": "code",
    "id": "dRB4GcuJxbp_",
    "outputId": "c62ac533-b728-42b0-80f4-d40e4249c851"
   },
   "outputs": [],
   "source": [
    "score = model.evaluate(x_test, y_test)\n",
    "print('Test loss:', score[0])\n",
    "print('Test accuracy:', score[1])"
   ]
  },
  {
   "cell_type": "markdown",
   "metadata": {
    "colab_type": "text",
    "id": "eCV0NEx-F-0D"
   },
   "source": [
    "## ResNet\n",
    "\n",
    "In 2015 the winner of the ImageNet challenge was the Residual Neural Network ([ResNet](https://arxiv.org/pdf/1512.03385.pdf)) architecture. Similar to Inception, ResNet is built by micro-architectures modules, called residual blocks. Those blocks introduced skip connections, which allowed to train huge architectures (152 layers) while still having lower complexity than VGGNet. Those residual connections also allowed them to create deeper architectures since the gradient could backpropagate easier through the skip connections. Next image is from [Das' blog](https://medium.com/@sidereal/cnns-architectures-lenet-alexnet-vgg-googlenet-resnet-and-more-666091488df5) and shows ResNet architecture with its skip connections:\n",
    "\n",
    "![texto alternativo](https://cdn-images-1.medium.com/max/800/0*pkrso8DZa0m6IAcJ.png)\n",
    "\n",
    "Keras offers the implementation of ResNet50 pre-trained on ImageNet. In addition to ResNet50, deeper versions of it, ResNet101 or ResNet152, are widely used nowadays. The main difference lies in the number of layers, e.g., ResNet50 is a 50 layer Residual Network."
   ]
  },
  {
   "cell_type": "code",
   "execution_count": null,
   "metadata": {
    "colab": {},
    "colab_type": "code",
    "id": "L3AJ5oF0dz64"
   },
   "outputs": [],
   "source": [
    "from keras.models import Model\n",
    "from keras.layers import Dense, GlobalAveragePooling2D\n",
    "from keras.applications.resnet50 import ResNet50\n",
    "\n",
    "model = ResNet50(include_top=False, input_shape=(32,32,3), weights='imagenet')\n",
    "\n",
    "# Freeze all the layers\n",
    "for layer in model.layers[:]:\n",
    "    layer.trainable = False\n",
    "\n",
    "# Add Dense layer to classify on CIFAR10\n",
    "output = model.output\n",
    "output = GlobalAveragePooling2D()(output)\n",
    "output = Dense(units=10, activation='softmax')(output)\n",
    "model = Model(model.input, output)"
   ]
  },
  {
   "cell_type": "markdown",
   "metadata": {
    "colab_type": "text",
    "id": "yC5S2IONeaWd"
   },
   "source": [
    "Let's check the performance:"
   ]
  },
  {
   "cell_type": "code",
   "execution_count": null,
   "metadata": {
    "colab": {
     "base_uri": "https://localhost:8080/",
     "height": 197
    },
    "colab_type": "code",
    "id": "XRJ80Qi2ef0U",
    "outputId": "5d607958-9035-48a9-af26-f38a188489ce"
   },
   "outputs": [],
   "source": [
    "model.compile(optimizer='adam',loss='categorical_crossentropy', metrics=['categorical_accuracy'])\n",
    "model.fit(x_train, y_train, epochs=3, batch_size=32,  validation_split=0.2)\n",
    "\n",
    "score = model.evaluate(x_test, y_test)\n",
    "print('Test loss:', score[0])\n",
    "print('Test accuracy:', score[1])"
   ]
  },
  {
   "cell_type": "markdown",
   "metadata": {
    "colab_type": "text",
    "id": "-ILGzCzQlD26"
   },
   "source": [
    "## Xception, DenseNet, InceptionResNet ...\n",
    "\n",
    "Keras offers many more network implementations trained on ImageNet. You can check the [documentation](https://keras.io/applications/) to see all of them. Besides, the documentation reports their accuracies, number of parameters and depth of each architecture. "
   ]
  },
  {
   "cell_type": "markdown",
   "metadata": {
    "colab_type": "text",
    "id": "s_mCvUoEZYmd"
   },
   "source": [
    "# CNN on Others Domains\n",
    "\n",
    "Besides the success of CNNs in classification problems, CNNs have been used in many other domains, such as object detection, facial recognition, image segmentation, image captioning, image generation, among others. We present now two state-of-the-art architectures.\n"
   ]
  },
  {
   "cell_type": "markdown",
   "metadata": {
    "colab_type": "text",
    "id": "Q5AKwf_Hl-Gv"
   },
   "source": [
    "## Denoising with UNet\n",
    "\n",
    "[UNet](https://arxiv.org/pdf/1505.04597.pdf) was presented in 2015 for biomedical image segmentation, but since then, it has been employed in many different tasks such as as semantic segmentation, generative models, denoising... The idea is similar to an encoder-decoder layout. The first part of the network encodes the image and reduces it to a map of smaller size, forcing it to capture the important information. Then, the next part is in charge of decoding the image from that vector.\n",
    "\n",
    "UNet presents also skip connections between the encoder and the decoder to allow easier flow of information.\n"
   ]
  },
  {
   "cell_type": "markdown",
   "metadata": {
    "colab_type": "text",
    "id": "keL5CmHpAGeb"
   },
   "source": [
    "Now let's define the UNet architecture.\n"
   ]
  },
  {
   "cell_type": "code",
   "execution_count": null,
   "metadata": {
    "colab": {},
    "colab_type": "code",
    "id": "ZoYzGXVRnP5k"
   },
   "outputs": [],
   "source": [
    "from keras.layers import Input, UpSampling2D, concatenate \n",
    "from keras.models import Model\n",
    "\n",
    "inputs = Input((32,32,3))\n",
    "conv1 = Conv2D(64, 3, activation = 'relu', padding = 'same', kernel_initializer = 'he_normal')(inputs)\n",
    "pool1 = MaxPooling2D(pool_size=(2, 2))(conv1)\n",
    "conv2 = Conv2D(128, 3, activation = 'relu', padding = 'same', kernel_initializer = 'he_normal')(pool1)\n",
    "pool2 = MaxPooling2D(pool_size=(2, 2))(conv2)\n",
    "conv3 = Conv2D(256, 3, activation = 'relu', padding = 'same', kernel_initializer = 'he_normal')(pool2)\n",
    "pool3 = MaxPooling2D(pool_size=(2, 2))(conv3)\n",
    "conv4 = Conv2D(512, 3, activation = 'relu', padding = 'same', kernel_initializer = 'he_normal')(pool3)\n",
    "drop4 = Dropout(0.5)(conv4)\n",
    "pool4 = MaxPooling2D(pool_size=(2, 2))(drop4)\n",
    "\n",
    "conv5 = Conv2D(1024, 3, activation = 'relu', padding = 'same', kernel_initializer = 'he_normal')(pool4)\n",
    "drop5 = Dropout(0.5)(conv5)\n",
    "\n",
    "## Now the decoder starts\n",
    "\n",
    "up6 = Conv2D(512, 2, activation = 'relu', padding = 'same', kernel_initializer = 'he_normal')(UpSampling2D(size = (2,2))(drop5))\n",
    "merge6 = concatenate([drop4,up6], axis = 3)\n",
    "conv6 = Conv2D(512, 3, activation = 'relu', padding = 'same', kernel_initializer = 'he_normal')(merge6)\n",
    "\n",
    "up7 = Conv2D(256, 2, activation = 'relu', padding = 'same', kernel_initializer = 'he_normal')(UpSampling2D(size = (2,2))(conv6))\n",
    "merge7 = concatenate([conv3,up7], axis = 3)\n",
    "conv7 = Conv2D(256, 3, activation = 'relu', padding = 'same', kernel_initializer = 'he_normal')(merge7)\n",
    "\n",
    "up8 = Conv2D(128, 2, activation = 'relu', padding = 'same', kernel_initializer = 'he_normal')(UpSampling2D(size = (2,2))(conv7))\n",
    "merge8 = concatenate([conv2,up8], axis = 3)\n",
    "conv8 = Conv2D(128, 3, activation = 'relu', padding = 'same', kernel_initializer = 'he_normal')(merge8)\n",
    "\n",
    "up9 = Conv2D(64, 2, activation = 'relu', padding = 'same', kernel_initializer = 'he_normal')(UpSampling2D(size = (2,2))(conv8))\n",
    "merge9 = concatenate([conv1,up9], axis = 3)\n",
    "conv9 = Conv2D(64, 3, activation = 'relu', padding = 'same', kernel_initializer = 'he_normal')(merge9)\n",
    "conv10 = Conv2D(3, 3,  padding = 'same')(conv9)\n",
    "\n",
    "model = Model(inputs = inputs, outputs = conv10)"
   ]
  },
  {
   "cell_type": "markdown",
   "metadata": {
    "colab_type": "text",
    "id": "BfMCDfIJAdYY"
   },
   "source": [
    "We have CIFAR10 images loaded from previous experiments. We are going to add some Gaussian noise (you can play with the scale of the noise) and then train the UNet to remove the noise from the images. To do so, we train with the noisy image as input and the clean image as the target. We use the Mean Absolute Error as the loss function to optimize the architecture."
   ]
  },
  {
   "cell_type": "code",
   "execution_count": null,
   "metadata": {
    "colab": {
     "base_uri": "https://localhost:8080/",
     "height": 161
    },
    "colab_type": "code",
    "id": "OarMCDhS7UjV",
    "outputId": "536f64fa-f3cb-4eaf-e80a-02458c39cd17"
   },
   "outputs": [],
   "source": [
    "import numpy as np\n",
    "\n",
    "x_train_noise = x_train + np.random.normal(size = x_train.shape, scale = 0.1)\n",
    "x_test_noise = x_test + np.random.normal(size = x_test.shape, scale = 0.1)\n",
    "\n",
    "model.compile(optimizer = 'Adam', loss = 'mean_absolute_error', metrics = ['mae'])\n",
    "model.fit(x_train_noise, x_train, batch_size=32, epochs=3, validation_split=0.2)"
   ]
  },
  {
   "cell_type": "code",
   "execution_count": null,
   "metadata": {
    "colab": {},
    "colab_type": "code",
    "id": "3df46sxxpf4S"
   },
   "outputs": [],
   "source": [
    "pred = model.predict(x_test_noise)"
   ]
  },
  {
   "cell_type": "markdown",
   "metadata": {
    "colab_type": "text",
    "id": "CULZTfRdBk3C"
   },
   "source": [
    "We now visualize the noisy image next to the output of the UNet. The output images are a little bit blurred, but the noise has been reduced."
   ]
  },
  {
   "cell_type": "code",
   "execution_count": null,
   "metadata": {
    "colab": {
     "base_uri": "https://localhost:8080/",
     "height": 243
    },
    "colab_type": "code",
    "id": "O0H2dGQ0p98I",
    "outputId": "68344307-4867-4e61-b6a3-e63ce49bc9f9"
   },
   "outputs": [],
   "source": [
    "import matplotlib.pyplot as plt\n",
    "\n",
    "N=5\n",
    "start_val = 0# pick an element for the code to plot the following N**2 values\n",
    "fig, axes = plt.subplots(N,N)\n",
    "for row in range(N):\n",
    "  for col in range(N):\n",
    "    idx = start_val+row+N*col\n",
    "    \n",
    "    im = np.concatenate((np.clip(x_test_noise[idx], 0, 1), np.clip(pred[idx], 0, 1)), 1)\n",
    "    axes[row,col].imshow(im)\n",
    "    axes[row,col].set_xticks([])\n",
    "    axes[row,col].set_yticks([])\n"
   ]
  },
  {
   "cell_type": "markdown",
   "metadata": {
    "colab_type": "text",
    "id": "TT_TfhCsfXsH"
   },
   "source": [
    "## Object Detection with RetinaNet\n",
    "\n",
    "We now will show an object detection example. Object detection differs from image classification in that in an image classification setting we give a label to the whole image, whereas in an object detection setting we give a label and bounding box per each of the classes that are present. \n",
    "\n",
    "Top detector models include Faster R-CNN, YOLO (yes, it is called YOLO, standing for You Only Look Once; this is the unusual [resume](https://pjreddie.com/static/Redmon%20Resume.pdf) of the YOLO developer) or SSD (Single Shot Detector). Another example of a detector is RetinaNet, which we use to give an example of object detection using the implementation taken from [this repository](https://github.com/fizyr/keras-retinanet). We adapt the example from [this notebook](https://github.com/fizyr/keras-retinanet/blob/master/examples/ResNet50RetinaNet.ipynb) in the given repository."
   ]
  },
  {
   "cell_type": "code",
   "execution_count": null,
   "metadata": {
    "colab": {},
    "colab_type": "code",
    "id": "J9xMKvNRibp_"
   },
   "outputs": [],
   "source": [
    "!git clone https://github.com/fizyr/keras-retinanet\n",
    "%cd ./keras-retinanet\n",
    "!python setup.py build_ext --inplace\n",
    "%cd /content/\n",
    "!pip install keras-resnet\n",
    "%cd /content/keras-retinanet\n",
    "!wget https://github.com/fizyr/keras-retinanet/releases/download/0.5.1/resnet50_coco_best_v2.1.0.h5\n",
    "# show images inline\n",
    "%matplotlib inline\n",
    "\n",
    "# automatically reload modules when they have changed\n",
    "%load_ext autoreload\n",
    "%autoreload 2\n",
    "\n",
    "# We import a bunch of modules\n",
    "import keras\n",
    "from keras_retinanet import models\n",
    "from keras_retinanet.utils.image import read_image_bgr, preprocess_image, resize_image\n",
    "from keras_retinanet.utils.visualization import draw_box, draw_caption\n",
    "from keras_retinanet.utils.colors import label_color\n",
    "import matplotlib.pyplot as plt\n",
    "import cv2\n",
    "import os\n",
    "import numpy as np\n",
    "import time\n",
    "\n",
    "# load retinanet model\n",
    "model_path = './resnet50_coco_best_v2.1.0.h5'\n",
    "model = models.load_model(model_path, backbone_name='resnet50')\n",
    "labels_to_names = {0: 'person', 1: 'bicycle', 2: 'car', 3: 'motorcycle', 4: 'airplane', 5: 'bus', 6: 'train', 7: 'truck', 8: 'boat', 9: 'traffic light', 10: 'fire hydrant', 11: 'stop sign', 12: 'parking meter', 13: 'bench', 14: 'bird', 15: 'cat', 16: 'dog', 17: 'horse', 18: 'sheep', 19: 'cow', 20: 'elephant', 21: 'bear', 22: 'zebra', 23: 'giraffe', 24: 'backpack', 25: 'umbrella', 26: 'handbag', 27: 'tie', 28: 'suitcase', 29: 'frisbee', 30: 'skis', 31: 'snowboard', 32: 'sports ball', 33: 'kite', 34: 'baseball bat', 35: 'baseball glove', 36: 'skateboard', 37: 'surfboard', 38: 'tennis racket', 39: 'bottle', 40: 'wine glass', 41: 'cup', 42: 'fork', 43: 'knife', 44: 'spoon', 45: 'bowl', 46: 'banana', 47: 'apple', 48: 'sandwich', 49: 'orange', 50: 'broccoli', 51: 'carrot', 52: 'hot dog', 53: 'pizza', 54: 'donut', 55: 'cake', 56: 'chair', 57: 'couch', 58: 'potted plant', 59: 'bed', 60: 'dining table', 61: 'toilet', 62: 'tv', 63: 'laptop', 64: 'mouse', 65: 'remote', 66: 'keyboard', 67: 'cell phone', 68: 'microwave', 69: 'oven', 70: 'toaster', 71: 'sink', 72: 'refrigerator', 73: 'book', 74: 'clock', 75: 'vase', 76: 'scissors', 77: 'teddy bear', 78: 'hair drier', 79: 'toothbrush'}\n",
    "\n",
    "%cd /content/\n",
    "\n",
    "def detection_url(url):\n",
    "  %cd /content/keras-retinanet\n",
    "  import requests\n",
    "  from io import BytesIO\n",
    "  response = requests.get(url)\n",
    "  # load image\n",
    "  image = read_image_bgr(BytesIO(response.content))\n",
    "\n",
    "  # copy to draw on\n",
    "  draw = image.copy()\n",
    "  draw = cv2.cvtColor(draw, cv2.COLOR_BGR2RGB)\n",
    "\n",
    "  # preprocess image for network\n",
    "  image = preprocess_image(image)\n",
    "  image, scale = resize_image(image)\n",
    "\n",
    "  # process image\n",
    "  start = time.time()\n",
    "  boxes, scores, labels = model.predict_on_batch(np.expand_dims(image, axis=0))\n",
    "  print(\"processing time: \", time.time() - start)\n",
    "\n",
    "  # correct for image scale\n",
    "  boxes /= scale\n",
    "\n",
    "  # visualize detections\n",
    "  for box, score, label in zip(boxes[0], scores[0], labels[0]):\n",
    "      # scores are sorted so we can break\n",
    "      if score < 0.5:\n",
    "          break\n",
    "      color = label_color(label)\n",
    "\n",
    "      b = box.astype(int)\n",
    "      draw_box(draw, b, color=color)\n",
    "      caption = \"{} {:.3f}\".format(labels_to_names[label], score)\n",
    "      draw_caption(draw, b, caption)\n",
    "\n",
    "  plt.figure(figsize=(15, 15))\n",
    "  plt.axis('off')\n",
    "  plt.imshow(draw)\n",
    "  plt.show()\n",
    "  %cd /content/"
   ]
  },
  {
   "cell_type": "markdown",
   "metadata": {
    "colab_type": "text",
    "id": "Di9tA9Zqij06"
   },
   "source": [
    "Now, we can use any *URL* pointing to an image (some *URLs* may fail) as input, and we will get an output with the detections out of the 80 classes in Microsoft COCO. If you want to check the classes available, you can print the variable labels_to_names.\n",
    "\n",
    "As an example, we of course input an image full of cats. The labels are a bit blurry, but you can see all of the cats have the correct bounding box around them. However, one of the cats (third bottom row, blue box) was classified as a bear."
   ]
  },
  {
   "cell_type": "code",
   "execution_count": null,
   "metadata": {
    "colab": {
     "base_uri": "https://localhost:8080/",
     "height": 523
    },
    "colab_type": "code",
    "id": "NBIL89k7ix_S",
    "outputId": "6979a30c-bb27-45da-db3d-1683d83e4abd"
   },
   "outputs": [],
   "source": [
    "url = 'https://st3.depositphotos.com/1032808/12984/i/950/depositphotos_129842732-stock-photo-group-of-various-breeds-cats.jpg'\n",
    "detection_url(url)"
   ]
  },
  {
   "cell_type": "markdown",
   "metadata": {
    "colab_type": "text",
    "id": "urw5Sugu1F7r"
   },
   "source": [
    "# **Coursework**\n",
    "\n",
    "### Task 1: VGG on Tiny-ImageNet\n",
    "\n",
    "Explore the VGG Keras's model on 64x64 Tiny-ImageNet. Tiny-ImageNet contains 200 classes for training. Each class has 500 images. The test set contains 10,000 images. All images are 64x64 colored ones.\n",
    "\n",
    "In this exercise you are asked to train several VGG models and report the result after 20 epochs of training. Run the following script to get the data.\n",
    "\n",
    "\n"
   ]
  },
  {
   "cell_type": "code",
   "execution_count": 1,
   "metadata": {},
   "outputs": [
    {
     "name": "stderr",
     "output_type": "stream",
     "text": [
      "Using TensorFlow backend.\n"
     ]
    }
   ],
   "source": [
    "import warnings\n",
    "warnings.filterwarnings('ignore')\n",
    "from keras import backend as K\n",
    "import scipy.ndimage as nd\n",
    "from keras.models import Sequential,load_model\n",
    "from keras import regularizers\n",
    "from keras import initializers\n",
    "from keras import metrics\n",
    "from keras.layers import Lambda, Dense, Dropout, Activation, Flatten, Input, Convolution2D, MaxPooling2D, BatchNormalization, ReLU, LeakyReLU \n",
    "from keras import layers\n",
    "from keras import models\n",
    "import tensorflow as tf\n",
    "from keras.preprocessing.image import ImageDataGenerator\n",
    "import numpy as np\n",
    "import os\n",
    "import time\n",
    "import cv2\n",
    "import matplotlib.pyplot as plt\n",
    "from keras.applications.vgg16 import VGG16\n",
    "from keras.applications.vgg19 import VGG19\n",
    "import tensorflow as tf\n",
    "import datetime\n",
    "import tensorboardcolab as tbc\n",
    "from tensorboardcolab import TensorBoardColabCallback\n",
    "# Load the TensorBoard notebook extension\n",
    "from keras.callbacks import EarlyStopping\n",
    "from keras.models import Model\n",
    "%load_ext tensorboard\n",
    "from pprint import pprint\n",
    "import pickle\n",
    "\n",
    "\n",
    "#########################\n",
    "np.random.seed(0)"
   ]
  },
  {
   "cell_type": "code",
   "execution_count": 2,
   "metadata": {
    "colab": {
     "base_uri": "https://localhost:8080/",
     "height": 396
    },
    "colab_type": "code",
    "id": "QmPJ2vKG5BB_",
    "outputId": "8742be5e-9887-4fe9-9ab8-60384cf938f3"
   },
   "outputs": [
    {
     "name": "stdout",
     "output_type": "stream",
     "text": [
      "fatal: destination path 'IMagenet' already exists and is not an empty directory.\n",
      "starting loading data\n",
      "finished loading data, in 8.82647442817688 seconds\n"
     ]
    },
    {
     "data": {
      "image/png": "[encoded data removed]",
      "text/plain": [
       "<Figure size 432x288 with 9 Axes>"
      ]
     },
     "metadata": {},
     "output_type": "display_data"
    }
   ],
   "source": [
    "# download TinyImageNet\n",
    "! git clone https://github.com/seshuad/IMagenet\n",
    "\n",
    "    \n",
    "def save_status(data, dest):\n",
    "    outfile = open(dest, 'wb') \n",
    "    pickle.dump(data, outfile)                       \n",
    "    outfile.close()\n",
    "\n",
    "def load_status(f): \n",
    "    with open(f, 'rb') as infile:     \n",
    "        status = pickle.load(infile) \n",
    "    return status\n",
    "\n",
    "def get_id_dictionary():\n",
    "    id_dict = {}\n",
    "    for i, line in enumerate(open('IMagenet/tiny-imagenet-200/wnids.txt', 'r')):\n",
    "        id_dict[line.replace('\\n', '')] = i\n",
    "    return id_dict\n",
    "  \n",
    "def get_class_to_id_dict():\n",
    "    id_dict = get_id_dictionary()\n",
    "    all_classes = {}\n",
    "    result = {}\n",
    "    for i, line in enumerate(open('IMagenet/tiny-imagenet-200/words.txt', 'r')):\n",
    "        n_id, word = line.split('\\t')[:2]\n",
    "        all_classes[n_id] = word\n",
    "    for key, value in id_dict.items():\n",
    "        result[value] = (key, all_classes[key])\n",
    "        \n",
    "    return result\n",
    "\n",
    "def get_data(id_dict):\n",
    "\n",
    "    print('starting loading data')\n",
    "    train_data, val_data, test_data = [], [], []\n",
    "    train_labels, val_labels, test_labels = [], [], []\n",
    "    t = time.time()\n",
    "    for key, value in id_dict.items():\n",
    "        train_data += [cv2.imread('IMagenet/tiny-imagenet-200/train/{}/images/{}_{}.JPEG'.format(key, key, str(i))) for i in range(450)]\n",
    "        \n",
    "        train_labels_ = np.array([[0]*200]*450)\n",
    "        train_labels_[:, value] = 1\n",
    "        train_labels += train_labels_.tolist()\n",
    "        \n",
    "        val_data += [cv2.imread('IMagenet/tiny-imagenet-200/train/{}/images/{}_{}.JPEG'.format(key, key, str(i))) for i in range(450, 500)]\n",
    "        \n",
    "        val_labels_ = np.array([[0]*200]*50)\n",
    "        val_labels_[:, value] = 1\n",
    "        val_labels += val_labels_.tolist()\n",
    "\n",
    "    for line in open('IMagenet/tiny-imagenet-200/val/val_annotations.txt'):\n",
    "        img_name, class_id = line.split('\\t')[:2]\n",
    "        test_data.append(cv2.imread('IMagenet/tiny-imagenet-200/val/images/{}'.format(img_name)))\n",
    "\n",
    "        test_labels_ = np.array([[0]*200])\n",
    "        test_labels_[0, id_dict[class_id]] = 1\n",
    "        test_labels += test_labels_.tolist()\n",
    "\n",
    "    print('finished loading data, in {} seconds'.format(time.time() - t))\n",
    "\n",
    "    return np.array(train_data), np.array(train_labels), np.array(val_data), np.array(val_labels), np.array(test_data), np.array(test_labels)\n",
    "  \n",
    "def shuffle_data(train_data, train_labels, val_data, val_labels):\n",
    "    size = len(train_data)\n",
    "    train_idx = np.arange(size)\n",
    "    np.random.shuffle(train_idx)\n",
    "    \n",
    "    size = len(val_data)\n",
    "    val_idx = np.arange(size)\n",
    "    np.random.shuffle(val_idx)\n",
    "\n",
    "    return train_data[train_idx], train_labels[train_idx], val_data[val_idx], val_labels[val_idx]\n",
    "\n",
    "train_data, train_labels, val_data, val_labels, test_data, test_labels = get_data(get_id_dictionary())\n",
    "train_data, train_labels, val_data, val_labels = shuffle_data(train_data, train_labels, val_data, val_labels)\n",
    "\n",
    "# Let's visualize some examples\n",
    "N=3\n",
    "start_val = 0 # pick an element for the code to plot the following N**2 values\n",
    "fig, axes = plt.subplots(N,N)\n",
    "for row in range(N):\n",
    "  for col in range(N):\n",
    "    idx = start_val+row+N*col    \n",
    "    tmp = cv2.cvtColor(train_data[idx],cv2.COLOR_BGR2RGB)\n",
    "    axes[row,col].imshow(tmp, cmap='gray')\n",
    "    fig.subplots_adjust(hspace=0.5)\n",
    "    axes[row,col].set_xticks([])\n",
    "    axes[row,col].set_yticks([])\n",
    "\n",
    "train_data = train_data.astype('float32') / 255.\n",
    "val_data = val_data.astype('float32') / 255.\n",
    "test_data = test_data.astype('float32') / 255.\n",
    "\n",
    "mean = np.mean(train_data,axis=(0,1,2,3))\n",
    "std = np.std(train_data, axis=(0, 1, 2, 3))\n",
    "train_data = (train_data-mean)/(std+1e-7)\n",
    "val_data = (val_data-mean)/(std+1e-7)\n",
    "test_data = (test_data-mean)/(std+1e-7)"
   ]
  },
  {
   "cell_type": "markdown",
   "metadata": {
    "colab_type": "text",
    "id": "kXLjtvJEAF_r"
   },
   "source": [
    "\n",
    "**Report**:\n",
    "*   Compare in a plot results when training the architecture from scratch and when weights are initialized with pre-trained weights from ImageNet. Moreover, report results when fine-tuning ImageNet weights, to do so, freeze all but the last dense layers and retrain the model.\n",
    "\n",
    "*   Fine-tune again the VGG model but now using input images of size 224x224. As the input size is 224x224, set the argument 'include_top' to True and preserve all dense layers but the very last one. Discuss the difference between the 64x64 and 224x224 fine-tune models. \n",
    "\n",
    "*   Report in a table the best results of VGG-16 and VGG-19 in terms of accuracy and inference time."
   ]
  },
  {
   "cell_type": "markdown",
   "metadata": {},
   "source": [
    "### VGG-16 (Random init, ImageNet init, fine-tuned ImageNet init)"
   ]
  },
  {
   "cell_type": "code",
   "execution_count": 3,
   "metadata": {},
   "outputs": [],
   "source": [
    "epochs = 20\n",
    "# epochs = 3 # DEBUG\n"
   ]
  },
  {
   "cell_type": "code",
   "execution_count": 4,
   "metadata": {},
   "outputs": [
    {
     "name": "stdout",
     "output_type": "stream",
     "text": [
      "WARNING:tensorflow:From /home/as6316/.local/lib/python3.7/site-packages/keras/backend/tensorflow_backend.py:4070: The name tf.nn.max_pool is deprecated. Please use tf.nn.max_pool2d instead.\n",
      "\n",
      "{'history': [],\n",
      " 'models': [<keras.engine.training.Model object at 0x7f120efebc88>,\n",
      "            <keras.engine.training.Model object at 0x7f120ebe9c18>,\n",
      "            <keras.engine.training.Model object at 0x7f11e8197f60>],\n",
      " 'names': ['VGG-16 Random Weights',\n",
      "           'VGG-16 ImageNet Weights',\n",
      "           'VGG-16 Fine-tuned ImageNet Weights']}\n"
     ]
    }
   ],
   "source": [
    "# DEFINE MODELS\n",
    "models_vgg16 = {\"models\":[], \"history\":[], \"names\":[]}\n",
    "\n",
    "\n",
    "\n",
    "#### VGG-16 Random Weights\n",
    "model = VGG16(input_shape=(64, 64, 3), include_top=False, weights=None)\n",
    "output = model.output\n",
    "output = Flatten()(output)\n",
    "output = Dense(units=4096, activation='relu')(output)\n",
    "output = Dense(units=4096, activation='relu')(output)\n",
    "output = Dense(units=200, activation='softmax')(output)\n",
    "model = Model(model.input, output)\n",
    "models_vgg16[\"models\"].append(model)\n",
    "models_vgg16[\"names\"].append(\"VGG-16 Random Weights\")\n",
    "\n",
    "#### VGG-16 ImageNet Weights\n",
    "model = VGG16(input_shape=(64, 64, 3), include_top=False, weights='imagenet')\n",
    "output = model.output\n",
    "output = Flatten()(output)\n",
    "output = Dense(units=4096, activation='relu')(output)\n",
    "output = Dense(units=4096, activation='relu')(output)\n",
    "output = Dense(units=200, activation='softmax')(output)\n",
    "model = Model(model.input, output)\n",
    "models_vgg16[\"models\"].append(model)\n",
    "models_vgg16[\"names\"].append(\"VGG-16 ImageNet Weights\")\n",
    "\n",
    "#### VGG-16 Fine tune ImageNet Weights\n",
    "model = VGG16(input_shape=(64, 64, 3), include_top=False, weights='imagenet')\n",
    "for layer in model.layers[:]:\n",
    "    layer.trainable = False\n",
    "output = model.output\n",
    "output = Flatten()(output)\n",
    "output = Dense(units=4096, activation='relu')(output)\n",
    "output = Dense(units=4096, activation='relu')(output)\n",
    "output = Dense(units=200, activation='softmax')(output)\n",
    "model = Model(model.input, output)\n",
    "models_vgg16[\"models\"].append(model)\n",
    "models_vgg16[\"names\"].append(\"VGG-16 Fine-tuned ImageNet Weights\")\n",
    "\n",
    "\n",
    "\n",
    "pprint(models_vgg16)"
   ]
  },
  {
   "cell_type": "code",
   "execution_count": 5,
   "metadata": {
    "colab": {},
    "colab_type": "code",
    "id": "3RQ0ESjGly_q",
    "scrolled": true
   },
   "outputs": [
    {
     "name": "stdout",
     "output_type": "stream",
     "text": [
      "================== VGG-16 Random Weights ==================\n",
      "WARNING:tensorflow:From /home/as6316/.local/lib/python3.7/site-packages/keras/backend/tensorflow_backend.py:422: The name tf.global_variables is deprecated. Please use tf.compat.v1.global_variables instead.\n",
      "\n",
      "Train on 90000 samples, validate on 10000 samples\n",
      "Epoch 1/20\n",
      " - 52s - loss: 5.2983 - categorical_accuracy: 0.0048 - val_loss: 5.2982 - val_categorical_accuracy: 0.0082\n",
      "Epoch 2/20\n",
      " - 50s - loss: 5.2982 - categorical_accuracy: 0.0061 - val_loss: 5.2980 - val_categorical_accuracy: 0.0074\n",
      "Epoch 3/20\n",
      " - 51s - loss: 5.2980 - categorical_accuracy: 0.0070 - val_loss: 5.2979 - val_categorical_accuracy: 0.0075\n",
      "Epoch 4/20\n",
      " - 51s - loss: 5.2978 - categorical_accuracy: 0.0072 - val_loss: 5.2976 - val_categorical_accuracy: 0.0112\n",
      "Epoch 5/20\n",
      " - 51s - loss: 5.2974 - categorical_accuracy: 0.0098 - val_loss: 5.2971 - val_categorical_accuracy: 0.0113\n",
      "Epoch 6/20\n",
      " - 50s - loss: 5.2967 - categorical_accuracy: 0.0081 - val_loss: 5.2960 - val_categorical_accuracy: 0.0093\n",
      "Epoch 7/20\n",
      " - 50s - loss: 5.2944 - categorical_accuracy: 0.0084 - val_loss: 5.2907 - val_categorical_accuracy: 0.0082\n",
      "Epoch 8/20\n",
      " - 50s - loss: 5.2772 - categorical_accuracy: 0.0079 - val_loss: 5.2535 - val_categorical_accuracy: 0.0107\n",
      "Epoch 9/20\n",
      " - 51s - loss: 5.2050 - categorical_accuracy: 0.0144 - val_loss: 5.2176 - val_categorical_accuracy: 0.0124\n",
      "Epoch 10/20\n",
      " - 51s - loss: 5.1029 - categorical_accuracy: 0.0220 - val_loss: 5.0942 - val_categorical_accuracy: 0.0209\n",
      "Epoch 11/20\n",
      " - 51s - loss: 4.9918 - categorical_accuracy: 0.0303 - val_loss: 5.0415 - val_categorical_accuracy: 0.0229\n",
      "Epoch 12/20\n",
      " - 51s - loss: 4.8938 - categorical_accuracy: 0.0398 - val_loss: 5.4555 - val_categorical_accuracy: 0.0165\n",
      "Epoch 13/20\n",
      " - 51s - loss: 4.7489 - categorical_accuracy: 0.0518 - val_loss: 4.8732 - val_categorical_accuracy: 0.0426\n",
      "Epoch 14/20\n",
      " - 51s - loss: 4.6062 - categorical_accuracy: 0.0657 - val_loss: 4.9433 - val_categorical_accuracy: 0.0364\n",
      "Epoch 15/20\n",
      " - 51s - loss: 4.4820 - categorical_accuracy: 0.0821 - val_loss: 4.8035 - val_categorical_accuracy: 0.0495\n",
      "Epoch 16/20\n",
      " - 51s - loss: 4.3581 - categorical_accuracy: 0.0999 - val_loss: 4.8525 - val_categorical_accuracy: 0.0521\n",
      "Epoch 17/20\n",
      " - 51s - loss: 4.2308 - categorical_accuracy: 0.1166 - val_loss: 4.9328 - val_categorical_accuracy: 0.0506\n",
      "Epoch 18/20\n",
      " - 51s - loss: 4.0911 - categorical_accuracy: 0.1347 - val_loss: 5.1385 - val_categorical_accuracy: 0.0512\n",
      "Epoch 19/20\n",
      " - 51s - loss: 3.9265 - categorical_accuracy: 0.1584 - val_loss: 5.0432 - val_categorical_accuracy: 0.0484\n",
      "Epoch 20/20\n",
      " - 51s - loss: 3.7435 - categorical_accuracy: 0.1845 - val_loss: 5.7189 - val_categorical_accuracy: 0.0421\n",
      "10000/10000 [==============================] - 3s 298us/step\n",
      "Test loss: 5.751849180603028\n",
      "Test accuracy: 0.03819999843835831\n",
      "================== VGG-16 ImageNet Weights ==================\n",
      "Train on 90000 samples, validate on 10000 samples\n",
      "Epoch 1/20\n",
      " - 51s - loss: 3.0916 - categorical_accuracy: 0.3071 - val_loss: 4.7193 - val_categorical_accuracy: 0.1828\n",
      "Epoch 2/20\n",
      " - 51s - loss: 1.9508 - categorical_accuracy: 0.5142 - val_loss: 2.9216 - val_categorical_accuracy: 0.3577\n",
      "Epoch 3/20\n",
      " - 51s - loss: 1.5703 - categorical_accuracy: 0.5980 - val_loss: 2.4826 - val_categorical_accuracy: 0.4497\n",
      "Epoch 4/20\n",
      " - 51s - loss: 1.2916 - categorical_accuracy: 0.6590 - val_loss: 3.2099 - val_categorical_accuracy: 0.3716\n",
      "Epoch 5/20\n",
      " - 51s - loss: 1.0570 - categorical_accuracy: 0.7132 - val_loss: 3.1559 - val_categorical_accuracy: 0.4152\n",
      "Epoch 6/20\n",
      " - 51s - loss: 0.8427 - categorical_accuracy: 0.7659 - val_loss: 4.0977 - val_categorical_accuracy: 0.2729\n",
      "Epoch 7/20\n",
      " - 51s - loss: 0.6520 - categorical_accuracy: 0.8142 - val_loss: 2.5740 - val_categorical_accuracy: 0.4992\n",
      "Epoch 8/20\n",
      " - 51s - loss: 0.4624 - categorical_accuracy: 0.8631 - val_loss: 3.8272 - val_categorical_accuracy: 0.3887\n",
      "Epoch 9/20\n",
      " - 51s - loss: 0.3368 - categorical_accuracy: 0.9001 - val_loss: 3.9637 - val_categorical_accuracy: 0.4440\n",
      "Epoch 10/20\n",
      " - 51s - loss: 0.2069 - categorical_accuracy: 0.9377 - val_loss: 4.3835 - val_categorical_accuracy: 0.3944\n",
      "Epoch 11/20\n",
      " - 51s - loss: 0.2098 - categorical_accuracy: 0.9413 - val_loss: 2.9512 - val_categorical_accuracy: 0.5205\n",
      "Epoch 12/20\n",
      " - 51s - loss: 0.0907 - categorical_accuracy: 0.9726 - val_loss: 6.3007 - val_categorical_accuracy: 0.3375\n",
      "Epoch 13/20\n",
      " - 51s - loss: 0.1463 - categorical_accuracy: 0.9638 - val_loss: 6.3985 - val_categorical_accuracy: 0.4070\n",
      "Epoch 14/20\n",
      " - 51s - loss: 0.1344 - categorical_accuracy: 0.9675 - val_loss: 2.8557 - val_categorical_accuracy: 0.5683\n",
      "Epoch 15/20\n",
      " - 51s - loss: 0.0312 - categorical_accuracy: 0.9919 - val_loss: 3.0544 - val_categorical_accuracy: 0.5745\n",
      "Epoch 16/20\n",
      " - 51s - loss: 0.0246 - categorical_accuracy: 0.9936 - val_loss: 3.1803 - val_categorical_accuracy: 0.5460\n",
      "Epoch 17/20\n",
      " - 51s - loss: 0.0160 - categorical_accuracy: 0.9962 - val_loss: 3.2621 - val_categorical_accuracy: 0.5669\n",
      "Epoch 18/20\n",
      " - 51s - loss: 0.0172 - categorical_accuracy: 0.9958 - val_loss: 3.1619 - val_categorical_accuracy: 0.5699\n",
      "Epoch 19/20\n",
      " - 51s - loss: 0.0087 - categorical_accuracy: 0.9983 - val_loss: 3.3253 - val_categorical_accuracy: 0.5823\n",
      "Epoch 20/20\n",
      " - 51s - loss: 0.0056 - categorical_accuracy: 0.9989 - val_loss: 3.5001 - val_categorical_accuracy: 0.5874\n",
      "10000/10000 [==============================] - 3s 283us/step\n",
      "Test loss: 3.6357753692626953\n",
      "Test accuracy: 0.5842000246047974\n",
      "================== VGG-16 Fine-tuned ImageNet Weights ==================\n",
      "Train on 90000 samples, validate on 10000 samples\n",
      "Epoch 1/20\n",
      " - 22s - loss: 4.2035 - categorical_accuracy: 0.1833 - val_loss: 3.6552 - val_categorical_accuracy: 0.1429\n",
      "Epoch 2/20\n",
      " - 22s - loss: 2.8824 - categorical_accuracy: 0.3475 - val_loss: 2.9899 - val_categorical_accuracy: 0.2729\n",
      "Epoch 3/20\n",
      " - 22s - loss: 2.5348 - categorical_accuracy: 0.4041 - val_loss: 2.8289 - val_categorical_accuracy: 0.3109\n",
      "Epoch 4/20\n",
      " - 22s - loss: 2.3616 - categorical_accuracy: 0.4364 - val_loss: 2.6202 - val_categorical_accuracy: 0.3646\n",
      "Epoch 5/20\n",
      " - 22s - loss: 2.2442 - categorical_accuracy: 0.4587 - val_loss: 2.5371 - val_categorical_accuracy: 0.3815\n",
      "Epoch 6/20\n",
      " - 22s - loss: 2.1551 - categorical_accuracy: 0.4785 - val_loss: 2.5235 - val_categorical_accuracy: 0.3850\n",
      "Epoch 7/20\n",
      " - 22s - loss: 2.0802 - categorical_accuracy: 0.4921 - val_loss: 2.4647 - val_categorical_accuracy: 0.3981\n",
      "Epoch 8/20\n",
      " - 22s - loss: 2.0163 - categorical_accuracy: 0.5066 - val_loss: 2.4500 - val_categorical_accuracy: 0.4018\n",
      "Epoch 9/20\n",
      " - 22s - loss: 1.9610 - categorical_accuracy: 0.5179 - val_loss: 2.3727 - val_categorical_accuracy: 0.4277\n",
      "Epoch 10/20\n",
      " - 22s - loss: 1.9089 - categorical_accuracy: 0.5298 - val_loss: 2.3661 - val_categorical_accuracy: 0.4218\n",
      "Epoch 11/20\n",
      " - 22s - loss: 1.8626 - categorical_accuracy: 0.5409 - val_loss: 2.3310 - val_categorical_accuracy: 0.4308\n",
      "Epoch 12/20\n",
      " - 22s - loss: 1.8173 - categorical_accuracy: 0.5509 - val_loss: 2.3949 - val_categorical_accuracy: 0.4148\n",
      "Epoch 13/20\n",
      " - 22s - loss: 1.7760 - categorical_accuracy: 0.5587 - val_loss: 2.5228 - val_categorical_accuracy: 0.3901\n",
      "Epoch 14/20\n",
      " - 22s - loss: 1.7370 - categorical_accuracy: 0.5672 - val_loss: 2.3065 - val_categorical_accuracy: 0.4368\n",
      "Epoch 15/20\n",
      " - 22s - loss: 1.6987 - categorical_accuracy: 0.5762 - val_loss: 2.2966 - val_categorical_accuracy: 0.4444\n",
      "Epoch 16/20\n",
      " - 22s - loss: 1.6615 - categorical_accuracy: 0.5853 - val_loss: 2.2744 - val_categorical_accuracy: 0.4434\n",
      "Epoch 17/20\n",
      " - 22s - loss: 1.6270 - categorical_accuracy: 0.5941 - val_loss: 2.3527 - val_categorical_accuracy: 0.4301\n",
      "Epoch 18/20\n",
      " - 22s - loss: 1.5938 - categorical_accuracy: 0.6016 - val_loss: 2.3058 - val_categorical_accuracy: 0.4420\n",
      "Epoch 19/20\n",
      " - 22s - loss: 1.5596 - categorical_accuracy: 0.6104 - val_loss: 2.2501 - val_categorical_accuracy: 0.4525\n",
      "Epoch 20/20\n",
      " - 22s - loss: 1.5282 - categorical_accuracy: 0.6172 - val_loss: 2.4369 - val_categorical_accuracy: 0.4169\n",
      "10000/10000 [==============================] - 3s 284us/step\n",
      "Test loss: 2.4863254035949707\n",
      "Test accuracy: 0.40950000286102295\n"
     ]
    }
   ],
   "source": [
    "for idx, model in enumerate(models_vgg16[\"models\"]):\n",
    "    print(f\"================== {models_vgg16['names'][idx]} ==================\")\n",
    "    early_stopping = EarlyStopping(monitor='val_categorical_accuracy', patience=4)\n",
    "#     log_dir = \"logs/fit/\" + datetime.datetime.now().strftime(\"%Y%m%d-%H%M%S\")\n",
    "#     tensorboard_callback = tf.keras.callbacks.TensorBoard(log_dir=log_dir, histogram_freq=1)\n",
    "\n",
    "    model.compile(optimizer='sgd',loss='categorical_crossentropy', metrics=['categorical_accuracy'])\n",
    "#     print(model.summary())\n",
    "    history = model.fit(train_data, train_labels, epochs=epochs, batch_size=128, \n",
    "                        validation_data=(val_data, val_labels), verbose=2,\n",
    "#                         callbacks=[early_stopping, TensorBoardColabCallback(tboard)])\n",
    "                        callbacks=[early_stopping])\n",
    "\n",
    "    score = model.evaluate(test_data, test_labels)\n",
    "    print('Test loss:', score[0])\n",
    "    print('Test accuracy:', score[1])\n",
    "    models_vgg16[\"models\"][idx] = model\n",
    "    models_vgg16[\"history\"].append(history)"
   ]
  },
  {
   "cell_type": "code",
   "execution_count": 24,
   "metadata": {},
   "outputs": [],
   "source": [
    "picklefile = \"checkpoints_05/vgg16\"\n",
    "\n",
    "# save_status(models_vgg16, picklefile)\n",
    "\n",
    "models_vgg16 = load_status(picklefile)"
   ]
  },
  {
   "cell_type": "code",
   "execution_count": 30,
   "metadata": {
    "scrolled": false
   },
   "outputs": [
    {
     "data": {
      "text/plain": [
       "<Figure size 432x288 with 0 Axes>"
      ]
     },
     "metadata": {},
     "output_type": "display_data"
    },
    {
     "data": {
      "image/png": "[encoded data removed]",
      "text/plain": [
       "<Figure size 1080x360 with 2 Axes>"
      ]
     },
     "metadata": {
      "needs_background": "light"
     },
     "output_type": "display_data"
    }
   ],
   "source": [
    "plt.figure(0)\n",
    "plt.figure(figsize=(15,5))\n",
    "\n",
    "# Plot training accuracy\n",
    "plt.subplot(1,2,1)\n",
    "for idx, history in enumerate(models_vgg16[\"history\"]):\n",
    "    plt.plot(history.history['categorical_accuracy'], label=models_vgg16['names'][idx])\n",
    "plt.title('Training accuracy')\n",
    "plt.ylabel('Categorical Accuracy')\n",
    "plt.xlabel('Epoch')\n",
    "plt.legend(loc='upper left')\n",
    "plt.grid()\n",
    "\n",
    "# Plot validation accuracy\n",
    "plt.subplot(1,2,2)\n",
    "for idx, history in enumerate(models_vgg16[\"history\"]):\n",
    "    plt.plot(history.history['val_categorical_accuracy'], label=models_vgg16['names'][idx])\n",
    "plt.title('Validation accuracy')\n",
    "plt.ylabel('Categorical Accuracy')\n",
    "plt.xlabel('Epoch')\n",
    "plt.legend(loc='upper left')\n",
    "plt.grid()"
   ]
  },
  {
   "cell_type": "markdown",
   "metadata": {},
   "source": [
    "### VGG-19 (Random init, ImageNet init, fine-tuned ImageNet init)"
   ]
  },
  {
   "cell_type": "code",
   "execution_count": 13,
   "metadata": {},
   "outputs": [],
   "source": [
    "epochs = 20\n",
    "# epochs = 3 # DEBUG"
   ]
  },
  {
   "cell_type": "code",
   "execution_count": 14,
   "metadata": {},
   "outputs": [
    {
     "name": "stdout",
     "output_type": "stream",
     "text": [
      "{'history': [],\n",
      " 'models': [<keras.engine.training.Model object at 0x7f4428f80470>,\n",
      "            <keras.engine.training.Model object at 0x7f4428b0b0f0>,\n",
      "            <keras.engine.training.Model object at 0x7f442864f4a8>],\n",
      " 'names': ['VGG-19 Random Weights',\n",
      "           'VGG-19 ImageNet Weights',\n",
      "           'VGG-19 Fine-tuned ImageNet Weights']}\n"
     ]
    }
   ],
   "source": [
    "# DEFINE MODELS\n",
    "models_vgg19 = {\"models\":[], \"history\":[], \"names\":[]}\n",
    "\n",
    "\n",
    "#### VGG-19 Random Weights\n",
    "model = VGG19(input_shape=(64, 64, 3), include_top=False, weights=None)\n",
    "output = model.output\n",
    "output = Flatten()(output)\n",
    "output = Dense(units=4096, activation='relu')(output)\n",
    "output = Dense(units=4096, activation='relu')(output)\n",
    "output = Dense(units=200, activation='softmax')(output)\n",
    "model = Model(model.input, output)\n",
    "models_vgg19[\"models\"].append(model)\n",
    "models_vgg19[\"names\"].append(\"VGG-19 Random Weights\")\n",
    "\n",
    "#### VGG-19 ImageNet Weights\n",
    "model = VGG19(input_shape=(64, 64, 3), include_top=False, weights='imagenet')\n",
    "output = model.output\n",
    "output = Flatten()(output)\n",
    "output = Dense(units=4096, activation='relu')(output)\n",
    "output = Dense(units=4096, activation='relu')(output)\n",
    "output = Dense(units=200, activation='softmax')(output)\n",
    "model = Model(model.input, output)\n",
    "models_vgg19[\"models\"].append(model)\n",
    "models_vgg19[\"names\"].append(\"VGG-19 ImageNet Weights\")\n",
    "\n",
    "\n",
    "#### VGG-19 Fine tune ImageNet Weights\n",
    "model = VGG19(input_shape=(64, 64, 3), include_top=False, weights='imagenet')\n",
    "for layer in model.layers[:]:\n",
    "    layer.trainable = False\n",
    "output = model.output\n",
    "output = Flatten()(output)\n",
    "output = Dense(units=4096, activation='relu')(output)\n",
    "output = Dense(units=4096, activation='relu')(output)\n",
    "output = Dense(units=200, activation='softmax')(output)\n",
    "model = Model(model.input, output)\n",
    "models_vgg19[\"models\"].append(model)\n",
    "models_vgg19[\"names\"].append(\"VGG-19 Fine-tuned ImageNet Weights\")\n",
    "\n",
    "\n",
    "\n",
    "pprint(models_vgg19)"
   ]
  },
  {
   "cell_type": "code",
   "execution_count": 15,
   "metadata": {
    "colab": {},
    "colab_type": "code",
    "id": "3RQ0ESjGly_q",
    "scrolled": true
   },
   "outputs": [
    {
     "name": "stdout",
     "output_type": "stream",
     "text": [
      "================== VGG-19 Random Weights ==================\n",
      "Train on 90000 samples, validate on 10000 samples\n",
      "Epoch 1/20\n",
      " - 60s - loss: 5.2984 - categorical_accuracy: 0.0045 - val_loss: 5.2983 - val_categorical_accuracy: 0.0060\n",
      "Epoch 2/20\n",
      " - 60s - loss: 5.2983 - categorical_accuracy: 0.0050 - val_loss: 5.2982 - val_categorical_accuracy: 0.0050\n",
      "Epoch 3/20\n",
      " - 60s - loss: 5.2983 - categorical_accuracy: 0.0050 - val_loss: 5.2982 - val_categorical_accuracy: 0.0050\n",
      "Epoch 4/20\n",
      " - 60s - loss: 5.2982 - categorical_accuracy: 0.0054 - val_loss: 5.2981 - val_categorical_accuracy: 0.0071\n",
      "Epoch 5/20\n",
      " - 60s - loss: 5.2981 - categorical_accuracy: 0.0061 - val_loss: 5.2980 - val_categorical_accuracy: 0.0069\n",
      "Epoch 6/20\n",
      " - 60s - loss: 5.2980 - categorical_accuracy: 0.0071 - val_loss: 5.2978 - val_categorical_accuracy: 0.0080\n",
      "Epoch 7/20\n",
      " - 60s - loss: 5.2977 - categorical_accuracy: 0.0075 - val_loss: 5.2975 - val_categorical_accuracy: 0.0080\n",
      "Epoch 8/20\n",
      " - 60s - loss: 5.2973 - categorical_accuracy: 0.0098 - val_loss: 5.2969 - val_categorical_accuracy: 0.0097\n",
      "Epoch 9/20\n",
      " - 60s - loss: 5.2965 - categorical_accuracy: 0.0099 - val_loss: 5.2958 - val_categorical_accuracy: 0.0114\n",
      "Epoch 10/20\n",
      " - 60s - loss: 5.2945 - categorical_accuracy: 0.0103 - val_loss: 5.2926 - val_categorical_accuracy: 0.0124\n",
      "Epoch 11/20\n",
      " - 60s - loss: 5.2646 - categorical_accuracy: 0.0100 - val_loss: 5.2097 - val_categorical_accuracy: 0.0093\n",
      "Epoch 12/20\n",
      " - 60s - loss: 5.1920 - categorical_accuracy: 0.0113 - val_loss: 5.1755 - val_categorical_accuracy: 0.0132\n",
      "Epoch 13/20\n",
      " - 60s - loss: 5.1244 - categorical_accuracy: 0.0150 - val_loss: 5.0834 - val_categorical_accuracy: 0.0152\n",
      "Epoch 14/20\n",
      " - 60s - loss: 5.0443 - categorical_accuracy: 0.0188 - val_loss: 5.1077 - val_categorical_accuracy: 0.0137\n",
      "Epoch 15/20\n",
      " - 60s - loss: 4.9952 - categorical_accuracy: 0.0238 - val_loss: 5.0467 - val_categorical_accuracy: 0.0201\n",
      "Epoch 16/20\n",
      " - 60s - loss: 4.9393 - categorical_accuracy: 0.0294 - val_loss: 5.0165 - val_categorical_accuracy: 0.0240\n",
      "Epoch 17/20\n",
      " - 60s - loss: 4.8836 - categorical_accuracy: 0.0364 - val_loss: 5.1345 - val_categorical_accuracy: 0.0240\n",
      "Epoch 18/20\n",
      " - 60s - loss: 4.8076 - categorical_accuracy: 0.0443 - val_loss: 4.8879 - val_categorical_accuracy: 0.0381\n",
      "Epoch 19/20\n",
      " - 60s - loss: 4.7078 - categorical_accuracy: 0.0564 - val_loss: 4.7938 - val_categorical_accuracy: 0.0402\n",
      "Epoch 20/20\n",
      " - 60s - loss: 4.6081 - categorical_accuracy: 0.0672 - val_loss: 5.3270 - val_categorical_accuracy: 0.0365\n",
      "10000/10000 [==============================] - 3s 339us/step\n",
      "Test loss: 5.348616226196289\n",
      "Test accuracy: 0.03139999881386757\n",
      "================== VGG-19 ImageNet Weights ==================\n",
      "Train on 90000 samples, validate on 10000 samples\n",
      "Epoch 1/20\n",
      " - 61s - loss: 3.1718 - categorical_accuracy: 0.2916 - val_loss: 3.5380 - val_categorical_accuracy: 0.2552\n",
      "Epoch 2/20\n",
      " - 60s - loss: 2.0511 - categorical_accuracy: 0.4934 - val_loss: 2.9939 - val_categorical_accuracy: 0.3244\n",
      "Epoch 3/20\n",
      " - 60s - loss: 1.6671 - categorical_accuracy: 0.5740 - val_loss: 3.1965 - val_categorical_accuracy: 0.3520\n",
      "Epoch 4/20\n",
      " - 60s - loss: 1.3888 - categorical_accuracy: 0.6354 - val_loss: 2.8848 - val_categorical_accuracy: 0.3526\n",
      "Epoch 5/20\n",
      " - 60s - loss: 1.1464 - categorical_accuracy: 0.6924 - val_loss: 2.9126 - val_categorical_accuracy: 0.3634\n",
      "Epoch 6/20\n",
      " - 60s - loss: 0.9173 - categorical_accuracy: 0.7473 - val_loss: 5.8744 - val_categorical_accuracy: 0.2181\n",
      "Epoch 7/20\n",
      " - 60s - loss: 0.7477 - categorical_accuracy: 0.7895 - val_loss: 3.4819 - val_categorical_accuracy: 0.3821\n",
      "Epoch 8/20\n",
      " - 60s - loss: 0.5360 - categorical_accuracy: 0.8435 - val_loss: 4.1672 - val_categorical_accuracy: 0.3340\n",
      "Epoch 9/20\n",
      " - 60s - loss: 0.4073 - categorical_accuracy: 0.8789 - val_loss: 5.0054 - val_categorical_accuracy: 0.3431\n",
      "Epoch 10/20\n",
      " - 60s - loss: 0.3066 - categorical_accuracy: 0.9093 - val_loss: 2.9609 - val_categorical_accuracy: 0.5232\n",
      "Epoch 11/20\n",
      " - 60s - loss: 0.1776 - categorical_accuracy: 0.9452 - val_loss: 3.7385 - val_categorical_accuracy: 0.4842\n",
      "Epoch 12/20\n",
      " - 60s - loss: 0.1445 - categorical_accuracy: 0.9561 - val_loss: 3.1024 - val_categorical_accuracy: 0.5295\n",
      "Epoch 13/20\n",
      " - 60s - loss: 0.0925 - categorical_accuracy: 0.9730 - val_loss: 3.1657 - val_categorical_accuracy: 0.5337\n",
      "Epoch 14/20\n",
      " - 60s - loss: 0.0780 - categorical_accuracy: 0.9773 - val_loss: 2.9421 - val_categorical_accuracy: 0.5150\n",
      "Epoch 15/20\n",
      " - 60s - loss: 0.0608 - categorical_accuracy: 0.9820 - val_loss: 6.7632 - val_categorical_accuracy: 0.4146\n",
      "Epoch 16/20\n",
      " - 60s - loss: 0.0796 - categorical_accuracy: 0.9799 - val_loss: 3.5065 - val_categorical_accuracy: 0.5282\n",
      "Epoch 17/20\n",
      " - 60s - loss: 0.0469 - categorical_accuracy: 0.9863 - val_loss: 4.4178 - val_categorical_accuracy: 0.4851\n",
      "Epoch 18/20\n",
      " - 60s - loss: 0.0355 - categorical_accuracy: 0.9899 - val_loss: 3.4360 - val_categorical_accuracy: 0.5574\n",
      "Epoch 19/20\n",
      " - 60s - loss: 0.0222 - categorical_accuracy: 0.9938 - val_loss: 3.7135 - val_categorical_accuracy: 0.5377\n",
      "Epoch 20/20\n",
      " - 60s - loss: 0.0275 - categorical_accuracy: 0.9922 - val_loss: 3.7260 - val_categorical_accuracy: 0.5582\n",
      "10000/10000 [==============================] - 3s 343us/step\n",
      "Test loss: 3.8934352104187013\n",
      "Test accuracy: 0.5429999828338623\n",
      "================== VGG-19 Fine-tuned ImageNet Weights ==================\n",
      "Train on 90000 samples, validate on 10000 samples\n",
      "Epoch 1/20\n",
      " - 25s - loss: 4.2719 - categorical_accuracy: 0.1703 - val_loss: 3.9112 - val_categorical_accuracy: 0.1059\n",
      "Epoch 2/20\n",
      " - 25s - loss: 3.0033 - categorical_accuracy: 0.3236 - val_loss: 3.1878 - val_categorical_accuracy: 0.2389\n",
      "Epoch 3/20\n",
      " - 25s - loss: 2.6619 - categorical_accuracy: 0.3803 - val_loss: 2.9507 - val_categorical_accuracy: 0.2921\n",
      "Epoch 4/20\n",
      " - 25s - loss: 2.4909 - categorical_accuracy: 0.4118 - val_loss: 2.7836 - val_categorical_accuracy: 0.3265\n",
      "Epoch 5/20\n",
      " - 25s - loss: 2.3770 - categorical_accuracy: 0.4320 - val_loss: 2.7967 - val_categorical_accuracy: 0.3244\n",
      "Epoch 6/20\n",
      " - 25s - loss: 2.2890 - categorical_accuracy: 0.4506 - val_loss: 2.7815 - val_categorical_accuracy: 0.3288\n",
      "Epoch 7/20\n",
      " - 25s - loss: 2.2152 - categorical_accuracy: 0.4637 - val_loss: 2.5379 - val_categorical_accuracy: 0.3902\n",
      "Epoch 8/20\n",
      " - 25s - loss: 2.1513 - categorical_accuracy: 0.4793 - val_loss: 2.6208 - val_categorical_accuracy: 0.3626\n",
      "Epoch 9/20\n",
      " - 25s - loss: 2.0967 - categorical_accuracy: 0.4905 - val_loss: 2.4995 - val_categorical_accuracy: 0.3929\n",
      "Epoch 10/20\n",
      " - 25s - loss: 2.0457 - categorical_accuracy: 0.4998 - val_loss: 2.5618 - val_categorical_accuracy: 0.3828\n",
      "Epoch 11/20\n",
      " - 25s - loss: 2.0000 - categorical_accuracy: 0.5106 - val_loss: 2.4681 - val_categorical_accuracy: 0.4036\n",
      "Epoch 12/20\n",
      " - 25s - loss: 1.9557 - categorical_accuracy: 0.5198 - val_loss: 2.6557 - val_categorical_accuracy: 0.3669\n",
      "Epoch 13/20\n",
      " - 25s - loss: 1.9157 - categorical_accuracy: 0.5294 - val_loss: 2.4556 - val_categorical_accuracy: 0.4053\n",
      "Epoch 14/20\n",
      " - 25s - loss: 1.8762 - categorical_accuracy: 0.5368 - val_loss: 2.4740 - val_categorical_accuracy: 0.3996\n",
      "Epoch 15/20\n",
      " - 25s - loss: 1.8396 - categorical_accuracy: 0.5448 - val_loss: 2.4457 - val_categorical_accuracy: 0.4095\n",
      "Epoch 16/20\n",
      " - 25s - loss: 1.8029 - categorical_accuracy: 0.5521 - val_loss: 2.4579 - val_categorical_accuracy: 0.4031\n",
      "Epoch 17/20\n",
      " - 25s - loss: 1.7691 - categorical_accuracy: 0.5617 - val_loss: 2.4553 - val_categorical_accuracy: 0.4108\n",
      "Epoch 18/20\n",
      " - 25s - loss: 1.7362 - categorical_accuracy: 0.5698 - val_loss: 2.4287 - val_categorical_accuracy: 0.4133\n",
      "Epoch 19/20\n",
      " - 25s - loss: 1.7037 - categorical_accuracy: 0.5774 - val_loss: 2.4449 - val_categorical_accuracy: 0.4152\n",
      "Epoch 20/20\n",
      " - 25s - loss: 1.6716 - categorical_accuracy: 0.5840 - val_loss: 2.4318 - val_categorical_accuracy: 0.4176\n",
      "10000/10000 [==============================] - 3s 340us/step\n",
      "Test loss: 2.4683420017242432\n",
      "Test accuracy: 0.4162999987602234\n"
     ]
    }
   ],
   "source": [
    "for idx, model in enumerate(models_vgg19[\"models\"]):\n",
    "    print(f\"================== {models_vgg19['names'][idx]} ==================\")\n",
    "    early_stopping = EarlyStopping(monitor='val_categorical_accuracy', patience=7)\n",
    "#     log_dir = \"logs/fit/\" + datetime.datetime.now().strftime(\"%Y%m%d-%H%M%S\")\n",
    "#     tensorboard_callback = tf.keras.callbacks.TensorBoard(log_dir=log_dir, histogram_freq=1)\n",
    "\n",
    "    model.compile(optimizer='sgd',loss='categorical_crossentropy', metrics=['categorical_accuracy'])\n",
    "#     print(model.summary())\n",
    "    history = model.fit(train_data, train_labels, epochs=epochs, batch_size=128, \n",
    "                        validation_data=(val_data, val_labels), verbose=2,\n",
    "#                         callbacks=[early_stopping, TensorBoardColabCallback(tboard)])\n",
    "                        callbacks=[early_stopping])\n",
    "\n",
    "    score = model.evaluate(test_data, test_labels)\n",
    "    print('Test loss:', score[0])\n",
    "    print('Test accuracy:', score[1])\n",
    "    models_vgg19[\"models\"][idx] = model\n",
    "    models_vgg19[\"history\"].append(history)"
   ]
  },
  {
   "cell_type": "code",
   "execution_count": 16,
   "metadata": {},
   "outputs": [],
   "source": [
    "\n",
    "picklefile = \"checkpoints_05/vgg19\"\n",
    "\n",
    "save_status(models_vgg19, picklefile)\n",
    "\n",
    "models_vgg19 = load_status(picklefile)"
   ]
  },
  {
   "cell_type": "code",
   "execution_count": 17,
   "metadata": {},
   "outputs": [
    {
     "data": {
      "text/plain": [
       "<Figure size 432x288 with 0 Axes>"
      ]
     },
     "metadata": {},
     "output_type": "display_data"
    },
    {
     "data": {
      "image/png": "[encoded data removed]",
      "text/plain": [
       "<Figure size 1080x360 with 2 Axes>"
      ]
     },
     "metadata": {
      "needs_background": "light"
     },
     "output_type": "display_data"
    }
   ],
   "source": [
    "plt.figure(0)\n",
    "plt.figure(figsize=(15,5))\n",
    "\n",
    "# Plot training accuracy\n",
    "plt.subplot(1,2,1)\n",
    "for idx, history in enumerate(models_vgg19[\"history\"]):\n",
    "    plt.plot(history.history['categorical_accuracy'], label=models_vgg19['names'][idx])\n",
    "plt.title('Training accuracy')\n",
    "plt.ylabel('Categorical Accuracy')\n",
    "plt.xlabel('Epoch')\n",
    "plt.legend(loc='upper left')\n",
    "plt.grid()\n",
    "\n",
    "# Plot validation accuracy\n",
    "plt.subplot(1,2,2)\n",
    "for idx, history in enumerate(models_vgg19[\"history\"]):\n",
    "    plt.plot(history.history['val_categorical_accuracy'], label=models_vgg19['names'][idx])\n",
    "plt.title('Validation accuracy')\n",
    "plt.ylabel('Categorical Accuracy')\n",
    "plt.xlabel('Epoch')\n",
    "plt.legend(loc='upper left')\n",
    "plt.grid()"
   ]
  },
  {
   "cell_type": "markdown",
   "metadata": {},
   "source": [
    "### VGG-16 and VGG-19 fine-tuned with large input (224x224x3) "
   ]
  },
  {
   "cell_type": "code",
   "execution_count": 8,
   "metadata": {},
   "outputs": [],
   "source": [
    "epochs = 20\n",
    "# epochs = 2 # DEBUG\n"
   ]
  },
  {
   "cell_type": "code",
   "execution_count": 9,
   "metadata": {},
   "outputs": [
    {
     "name": "stdout",
     "output_type": "stream",
     "text": [
      "{'history': [],\n",
      " 'models': [<keras.engine.training.Model object at 0x7f483011c780>,\n",
      "            <keras.engine.training.Model object at 0x7f46b9626fd0>],\n",
      " 'names': ['VGG-16 Fine-tuned ImageNet Weights (large input)',\n",
      "           'VGG-19 Fine-tuned ImageNet Weights (large input)']}\n"
     ]
    }
   ],
   "source": [
    "# DEFINE MODELS\n",
    "models_largeInput = {\"models\":[], \"history\":[], \"names\":[]}\n",
    "\n",
    "#### VGG-16\n",
    "vgg = VGG16(include_top=True, weights='imagenet')\n",
    "model = Sequential()\n",
    "for vgg_layer in vgg.layers[:-1]:\n",
    "    model.add(vgg_layer)\n",
    "model.add(Dense(units=200, activation='softmax'))\n",
    "for layer in model.layers[:-1]:\n",
    "    layer.trainable = False\n",
    "input_img = Input(shape=(64,64,3))\n",
    "resize = Lambda(lambda x: tf.image.resize_images(x, (224, 224)))(input_img)\n",
    "output = model(resize)\n",
    "model = Model(input_img, output)\n",
    "models_largeInput[\"models\"].append(model)\n",
    "models_largeInput[\"names\"].append(\"VGG-16 Fine-tuned ImageNet Weights (large input)\")\n",
    "\n",
    "#### VGG-19\n",
    "vgg = VGG19(include_top=True, weights='imagenet')\n",
    "model = Sequential()\n",
    "for vgg_layer in vgg.layers[:-1]:\n",
    "    model.add(vgg_layer)\n",
    "model.add(Dense(units=200, activation='softmax'))\n",
    "for layer in model.layers[:-1]:\n",
    "    layer.trainable = False\n",
    "input_img = Input(shape=(64,64,3))\n",
    "resize = Lambda(lambda x: tf.image.resize_images(x, (224, 224)))(input_img)\n",
    "output = model(resize)\n",
    "model = Model(input_img, output)\n",
    "models_largeInput[\"models\"].append(model)\n",
    "models_largeInput[\"names\"].append(\"VGG-19 Fine-tuned ImageNet Weights (large input)\")\n",
    "\n",
    "\n",
    "pprint(models_largeInput)"
   ]
  },
  {
   "cell_type": "code",
   "execution_count": 10,
   "metadata": {
    "colab": {},
    "colab_type": "code",
    "id": "3RQ0ESjGly_q",
    "scrolled": true
   },
   "outputs": [
    {
     "name": "stdout",
     "output_type": "stream",
     "text": [
      "================== VGG-16 Fine-tuned ImageNet Weights (large input) ==================\n",
      "Train on 90000 samples, validate on 10000 samples\n",
      "Epoch 1/20\n",
      " - 191s - loss: 4.7627 - categorical_accuracy: 0.0819 - val_loss: 4.3423 - val_categorical_accuracy: 0.0646\n",
      "Epoch 2/20\n",
      " - 189s - loss: 3.9746 - categorical_accuracy: 0.2153 - val_loss: 3.8142 - val_categorical_accuracy: 0.1648\n",
      "Epoch 3/20\n",
      " - 189s - loss: 3.5661 - categorical_accuracy: 0.2776 - val_loss: 3.4924 - val_categorical_accuracy: 0.2230\n",
      "Epoch 4/20\n",
      " - 188s - loss: 3.3112 - categorical_accuracy: 0.3142 - val_loss: 3.2813 - val_categorical_accuracy: 0.2793\n",
      "Epoch 5/20\n",
      " - 188s - loss: 3.1355 - categorical_accuracy: 0.3406 - val_loss: 3.1325 - val_categorical_accuracy: 0.2975\n",
      "Epoch 6/20\n",
      " - 188s - loss: 3.0060 - categorical_accuracy: 0.3579 - val_loss: 3.0215 - val_categorical_accuracy: 0.3162\n",
      "Epoch 7/20\n",
      " - 188s - loss: 2.9036 - categorical_accuracy: 0.3721 - val_loss: 2.9710 - val_categorical_accuracy: 0.3100\n",
      "Epoch 8/20\n",
      " - 189s - loss: 2.8213 - categorical_accuracy: 0.3849 - val_loss: 2.8804 - val_categorical_accuracy: 0.3460\n",
      "Epoch 9/20\n",
      " - 189s - loss: 2.7533 - categorical_accuracy: 0.3941 - val_loss: 2.8128 - val_categorical_accuracy: 0.3486\n",
      "Epoch 10/20\n",
      " - 189s - loss: 2.6961 - categorical_accuracy: 0.4038 - val_loss: 2.7180 - val_categorical_accuracy: 0.3821\n",
      "Epoch 11/20\n",
      " - 189s - loss: 2.6451 - categorical_accuracy: 0.4104 - val_loss: 2.6979 - val_categorical_accuracy: 0.3691\n",
      "Epoch 12/20\n",
      " - 189s - loss: 2.6020 - categorical_accuracy: 0.4166 - val_loss: 2.6572 - val_categorical_accuracy: 0.3813\n",
      "Epoch 13/20\n",
      " - 189s - loss: 2.5630 - categorical_accuracy: 0.4235 - val_loss: 2.6241 - val_categorical_accuracy: 0.3870\n",
      "Epoch 14/20\n",
      " - 189s - loss: 2.5284 - categorical_accuracy: 0.4288 - val_loss: 2.5842 - val_categorical_accuracy: 0.3979\n",
      "Epoch 15/20\n",
      " - 189s - loss: 2.4976 - categorical_accuracy: 0.4341 - val_loss: 2.5442 - val_categorical_accuracy: 0.4150\n",
      "Epoch 16/20\n",
      " - 189s - loss: 2.4693 - categorical_accuracy: 0.4382 - val_loss: 2.5333 - val_categorical_accuracy: 0.4183\n",
      "Epoch 17/20\n",
      " - 189s - loss: 2.4436 - categorical_accuracy: 0.4429 - val_loss: 2.5031 - val_categorical_accuracy: 0.4131\n",
      "Epoch 18/20\n",
      " - 190s - loss: 2.4197 - categorical_accuracy: 0.4461 - val_loss: 2.4968 - val_categorical_accuracy: 0.4107\n",
      "Epoch 19/20\n",
      " - 190s - loss: 2.3987 - categorical_accuracy: 0.4500 - val_loss: 2.4687 - val_categorical_accuracy: 0.4223\n",
      "Epoch 20/20\n",
      " - 190s - loss: 2.3776 - categorical_accuracy: 0.4523 - val_loss: 2.4477 - val_categorical_accuracy: 0.4278\n",
      "10000/10000 [==============================] - 20s 2ms/step\n",
      "Test loss: 2.4712276737213137\n",
      "Test accuracy: 0.41760000586509705\n",
      "================== VGG-19 Fine-tuned ImageNet Weights (large input) ==================\n",
      "Train on 90000 samples, validate on 10000 samples\n",
      "Epoch 1/20\n",
      " - 221s - loss: 4.7421 - categorical_accuracy: 0.0851 - val_loss: 4.3203 - val_categorical_accuracy: 0.0873\n",
      "Epoch 2/20\n",
      " - 221s - loss: 3.9781 - categorical_accuracy: 0.2147 - val_loss: 3.8026 - val_categorical_accuracy: 0.1719\n",
      "Epoch 3/20\n",
      " - 220s - loss: 3.5783 - categorical_accuracy: 0.2770 - val_loss: 3.4702 - val_categorical_accuracy: 0.2563\n",
      "Epoch 4/20\n",
      " - 221s - loss: 3.3302 - categorical_accuracy: 0.3132 - val_loss: 3.3073 - val_categorical_accuracy: 0.2708\n",
      "Epoch 5/20\n",
      " - 220s - loss: 3.1576 - categorical_accuracy: 0.3355 - val_loss: 3.1527 - val_categorical_accuracy: 0.2952\n",
      "Epoch 6/20\n",
      " - 220s - loss: 3.0288 - categorical_accuracy: 0.3540 - val_loss: 3.0275 - val_categorical_accuracy: 0.3270\n",
      "Epoch 7/20\n",
      " - 220s - loss: 2.9289 - categorical_accuracy: 0.3676 - val_loss: 2.9438 - val_categorical_accuracy: 0.3388\n",
      "Epoch 8/20\n",
      " - 219s - loss: 2.8475 - categorical_accuracy: 0.3796 - val_loss: 2.8715 - val_categorical_accuracy: 0.3447\n",
      "Epoch 9/20\n",
      " - 219s - loss: 2.7806 - categorical_accuracy: 0.3889 - val_loss: 2.8183 - val_categorical_accuracy: 0.3570\n",
      "Epoch 10/20\n",
      " - 219s - loss: 2.7243 - categorical_accuracy: 0.3986 - val_loss: 2.7790 - val_categorical_accuracy: 0.3573\n",
      "Epoch 11/20\n",
      " - 220s - loss: 2.6744 - categorical_accuracy: 0.4048 - val_loss: 2.7033 - val_categorical_accuracy: 0.3853\n",
      "Epoch 12/20\n",
      " - 220s - loss: 2.6317 - categorical_accuracy: 0.4110 - val_loss: 2.6742 - val_categorical_accuracy: 0.3887\n",
      "Epoch 13/20\n",
      " - 220s - loss: 2.5935 - categorical_accuracy: 0.4181 - val_loss: 2.6303 - val_categorical_accuracy: 0.3996\n",
      "Epoch 14/20\n",
      " - 220s - loss: 2.5595 - categorical_accuracy: 0.4227 - val_loss: 2.6155 - val_categorical_accuracy: 0.3966\n",
      "Epoch 15/20\n",
      " - 220s - loss: 2.5289 - categorical_accuracy: 0.4269 - val_loss: 2.6039 - val_categorical_accuracy: 0.3902\n",
      "Epoch 16/20\n",
      " - 220s - loss: 2.5018 - categorical_accuracy: 0.4314 - val_loss: 2.5492 - val_categorical_accuracy: 0.4096\n",
      "Epoch 17/20\n",
      " - 221s - loss: 2.4747 - categorical_accuracy: 0.4365 - val_loss: 2.5398 - val_categorical_accuracy: 0.4118\n",
      "Epoch 18/20\n",
      " - 221s - loss: 2.4516 - categorical_accuracy: 0.4396 - val_loss: 2.5204 - val_categorical_accuracy: 0.4151\n",
      "Epoch 19/20\n",
      " - 221s - loss: 2.4308 - categorical_accuracy: 0.4434 - val_loss: 2.5044 - val_categorical_accuracy: 0.4171\n",
      "Epoch 20/20\n",
      " - 221s - loss: 2.4104 - categorical_accuracy: 0.4458 - val_loss: 2.4667 - val_categorical_accuracy: 0.4272\n",
      "10000/10000 [==============================] - 23s 2ms/step\n",
      "Test loss: 2.486627812194824\n",
      "Test accuracy: 0.42489999532699585\n"
     ]
    }
   ],
   "source": [
    "for idx, model in enumerate(models_largeInput[\"models\"]):\n",
    "    print(f\"================== {models_largeInput['names'][idx]} ==================\")\n",
    "    early_stopping = EarlyStopping(monitor='val_categorical_accuracy', patience=4)\n",
    "#     log_dir = \"logs/fit/\" + datetime.datetime.now().strftime(\"%Y%m%d-%H%M%S\")\n",
    "#     tensorboard_callback = tf.keras.callbacks.TensorBoard(log_dir=log_dir, histogram_freq=1)\n",
    "\n",
    "    model.compile(optimizer='sgd',loss='categorical_crossentropy', metrics=['categorical_accuracy'])\n",
    "#     print(model.summary())\n",
    "    \n",
    "    history = model.fit(train_data, train_labels, epochs=epochs, batch_size=128, \n",
    "                        validation_data=(val_data, val_labels), verbose=2,\n",
    "#                         callbacks=[early_stopping, TensorBoardColabCallback(tboard)])\n",
    "                        callbacks=[early_stopping])\n",
    "\n",
    "    score = model.evaluate(test_data, test_labels)\n",
    "    print('Test loss:', score[0])\n",
    "    print('Test accuracy:', score[1])\n",
    "    models_largeInput[\"models\"][idx] = model\n",
    "    models_largeInput[\"history\"].append(history)"
   ]
  },
  {
   "cell_type": "code",
   "execution_count": 32,
   "metadata": {},
   "outputs": [
    {
     "name": "stdout",
     "output_type": "stream",
     "text": [
      "10000/10000 [==============================] - 18s 2ms/step\n",
      "10000/10000 [==============================] - 21s 2ms/step\n"
     ]
    }
   ],
   "source": [
    "# # IF LAMBDA LAYER IS PRESENT, YOU CANNOT PICKLE !!!\n",
    "\n",
    "picklefile = \"checkpoints_05/vgg_largeInput_NO-MODELS\"\n",
    "data = {\"history\": [h.history for h in models_largeInput[\"history\"]], \n",
    "        \"names\":models_largeInput[\"names\"], \n",
    "        \"test_categorical_accuracy\":[model.evaluate(test_data, test_labels)[1] for model in models_largeInput[\"models\"]]}\n",
    "save_status(data, picklefile)\n",
    "\n",
    "data = load_status(picklefile)\n",
    "# pprint(data)"
   ]
  },
  {
   "cell_type": "code",
   "execution_count": 12,
   "metadata": {},
   "outputs": [
    {
     "data": {
      "text/plain": [
       "<Figure size 432x288 with 0 Axes>"
      ]
     },
     "metadata": {},
     "output_type": "display_data"
    },
    {
     "data": {
      "image/png": "[encoded data removed]",
      "text/plain": [
       "<Figure size 1080x360 with 2 Axes>"
      ]
     },
     "metadata": {
      "needs_background": "light"
     },
     "output_type": "display_data"
    }
   ],
   "source": [
    "plt.figure(0)\n",
    "plt.figure(figsize=(15,5))\n",
    "\n",
    "# Plot training accuracy\n",
    "plt.subplot(1,2,1)\n",
    "for idx, history in enumerate(models_largeInput[\"history\"]):\n",
    "    plt.plot(history.history['categorical_accuracy'], label=models_largeInput['names'][idx])\n",
    "plt.title('Training accuracy')\n",
    "plt.ylabel('Categorical Accuracy')\n",
    "plt.xlabel('Epoch')\n",
    "plt.legend(loc='upper left')\n",
    "plt.grid()\n",
    "\n",
    "# Plot validation accuracy\n",
    "plt.subplot(1,2,2)\n",
    "for idx, history in enumerate(models_largeInput[\"history\"]):\n",
    "    plt.plot(history.history['val_categorical_accuracy'], label=models_largeInput['names'][idx])\n",
    "plt.title('Validation accuracy')\n",
    "plt.ylabel('Categorical Accuracy')\n",
    "plt.xlabel('Epoch')\n",
    "plt.legend(loc='upper left')\n",
    "plt.grid()"
   ]
  },
  {
   "cell_type": "markdown",
   "metadata": {},
   "source": [
    "### Compare all models w.r.t. accuracy and inference time"
   ]
  },
  {
   "cell_type": "code",
   "execution_count": 69,
   "metadata": {},
   "outputs": [],
   "source": [
    "from time import time\n",
    "def test_models(model, X_test=test_data):\n",
    "#     test_accuracy = model.evaluate(X_test, Y_test)[1]\n",
    "    test_time = []\n",
    "    for _ in range(10):\n",
    "        time_now = time()\n",
    "        model.predict(X_test)\n",
    "        time_then = time()\n",
    "        test_time.append(time_then-time_now)\n",
    "    return np.mean(test_time)"
   ]
  },
  {
   "cell_type": "code",
   "execution_count": 78,
   "metadata": {},
   "outputs": [
    {
     "name": "stdout",
     "output_type": "stream",
     "text": [
      "Loading data from picklefiles\n",
      "Un-pickling done!\n"
     ]
    }
   ],
   "source": [
    "print(\"Loading data from picklefiles\")\n",
    "picklefile = \"checkpoints_05/vgg16\"\n",
    "# models_vgg16 = load_status(picklefile)\n",
    "picklefile = \"checkpoints_05/vgg19\"\n",
    "# models_vgg19 = load_status(picklefile)\n",
    "# models_largeInput CANNOT BE PICKLED \n",
    "#                   ==> it needs to be obtained from the fitting above\n",
    "# models_largeInput = models_largeInput\n",
    "\n",
    "print(\"Un-pickling done!\")\n",
    "results = []\n",
    "# pprint(models_vgg19)\n",
    "for idx, model in enumerate(models_vgg16[\"models\"]):\n",
    "    res = {}\n",
    "    res[\"name\"] = models_vgg16[\"names\"][idx]\n",
    "    res[\"history\"] = models_vgg16[\"history\"][idx].history\n",
    "    res[\"test_acc\"] = [0.03819999843835831, 0.5842000246047974, 0.40950000286102295][idx]\n",
    "    res[\"inference_time\"] = [\"298us\", \"283us\", \"284us\"][idx]\n",
    "    results.append(res)\n",
    "    \n",
    "for idx, model in enumerate(models_vgg19[\"models\"]):\n",
    "    res = {}\n",
    "    res[\"name\"] = models_vgg19[\"names\"][idx]\n",
    "    res[\"history\"] = models_vgg19[\"history\"][idx].history\n",
    "    res[\"test_acc\"] = [0.03139999881386757, 0.5429999828338623, 0.4162999987602234][idx]\n",
    "    res[\"inference_time\"] = [\"339us\", \"343us\", \"340us\"][idx]\n",
    "    results.append(res)\n",
    "\n",
    "\n",
    "for idx, model in enumerate(models_largeInput[\"models\"]):\n",
    "    res = {}\n",
    "    res[\"name\"] = models_largeInput[\"names\"][idx]\n",
    "    res[\"history\"] = models_largeInput[\"history\"][idx].history\n",
    "    res[\"test_acc\"] = [0.41760000586509705, 0.42489999532699585][idx]\n",
    "    res[\"inference_time\"] = [\"1879us\",\"2104ms\"][idx]\n",
    "    results.append(res)\n",
    "    \n",
    "picklefile = \"checkpoints_05/results\"\n",
    "save_status(results, picklefile)"
   ]
  },
  {
   "cell_type": "code",
   "execution_count": 81,
   "metadata": {},
   "outputs": [
    {
     "name": "stdout",
     "output_type": "stream",
     "text": [
      "{'history': {'categorical_accuracy': [0.08506667,\n",
      "                                      0.2147,\n",
      "                                      0.27695554,\n",
      "                                      0.3132,\n",
      "                                      0.33553332,\n",
      "                                      0.35396665,\n",
      "                                      0.36763334,\n",
      "                                      0.37955555,\n",
      "                                      0.3889222,\n",
      "                                      0.3985889,\n",
      "                                      0.40482223,\n",
      "                                      0.4110111,\n",
      "                                      0.41805556,\n",
      "                                      0.42266667,\n",
      "                                      0.4269,\n",
      "                                      0.43137777,\n",
      "                                      0.4364889,\n",
      "                                      0.4396111,\n",
      "                                      0.44342223,\n",
      "                                      0.44577777],\n",
      "             'loss': [4.742101555803087,\n",
      "                      3.978054656558567,\n",
      "                      3.578309325620863,\n",
      "                      3.330237934366862,\n",
      "                      3.1575738621181912,\n",
      "                      3.0287557024637857,\n",
      "                      2.928926277118259,\n",
      "                      2.847525465435452,\n",
      "                      2.7805795417785646,\n",
      "                      2.724256130769518,\n",
      "                      2.674366060892741,\n",
      "                      2.6316990601857504,\n",
      "                      2.593535714043511,\n",
      "                      2.5594882825639513,\n",
      "                      2.5289165941874185,\n",
      "                      2.501814645470513,\n",
      "                      2.474688726679484,\n",
      "                      2.4516322404649524,\n",
      "                      2.4308294670952693,\n",
      "                      2.410395958497789],\n",
      "             'val_categorical_accuracy': [0.08730000257492065,\n",
      "                                          0.17190000414848328,\n",
      "                                          0.2563000023365021,\n",
      "                                          0.27079999446868896,\n",
      "                                          0.295199990272522,\n",
      "                                          0.3269999921321869,\n",
      "                                          0.33880001306533813,\n",
      "                                          0.34470000863075256,\n",
      "                                          0.3569999933242798,\n",
      "                                          0.3573000133037567,\n",
      "                                          0.38530001044273376,\n",
      "                                          0.388700008392334,\n",
      "                                          0.39959999918937683,\n",
      "                                          0.39660000801086426,\n",
      "                                          0.3901999890804291,\n",
      "                                          0.40959998965263367,\n",
      "                                          0.41179999709129333,\n",
      "                                          0.41510000824928284,\n",
      "                                          0.4171000123023987,\n",
      "                                          0.42719998955726624],\n",
      "             'val_loss': [4.320299404907226,\n",
      "                          3.8026099098205566,\n",
      "                          3.4701640808105467,\n",
      "                          3.307323929595947,\n",
      "                          3.152681067276001,\n",
      "                          3.0274950286865234,\n",
      "                          2.9438422821044923,\n",
      "                          2.871474171829224,\n",
      "                          2.8183104236602783,\n",
      "                          2.7790058654785157,\n",
      "                          2.7033039936065673,\n",
      "                          2.6741742584228514,\n",
      "                          2.630316379547119,\n",
      "                          2.6155157581329345,\n",
      "                          2.6039292819976807,\n",
      "                          2.549215929031372,\n",
      "                          2.539816529083252,\n",
      "                          2.5204306369781495,\n",
      "                          2.504416577911377,\n",
      "                          2.4666500305175783]},\n",
      " 'inference_time': '2104ms',\n",
      " 'name': 'VGG-19 Fine-tuned ImageNet Weights (large input)',\n",
      " 'test_acc': 0.42489999532699585}\n"
     ]
    }
   ],
   "source": [
    "results = load_status(picklefile)\n"
   ]
  },
  {
   "cell_type": "code",
   "execution_count": null,
   "metadata": {},
   "outputs": [],
   "source": []
  }
 ],
 "metadata": {
  "accelerator": "GPU",
  "colab": {
   "collapsed_sections": [],
   "include_colab_link": true,
   "machine_shape": "hm",
   "name": "2020_05_CNN_architectures.ipynb",
   "provenance": [],
   "toc_visible": true
  },
  "kernelspec": {
   "display_name": "Python 3",
   "language": "python",
   "name": "python3"
  },
  "language_info": {
   "codemirror_mode": {
    "name": "ipython",
    "version": 3
   },
   "file_extension": ".py",
   "mimetype": "text/x-python",
   "name": "python",
   "nbconvert_exporter": "python",
   "pygments_lexer": "ipython3",
   "version": "3.7.3"
  }
 },
 "nbformat": 4,
 "nbformat_minor": 1
}
